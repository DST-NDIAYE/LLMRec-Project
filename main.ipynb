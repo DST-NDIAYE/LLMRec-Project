{
 "cells": [
  {
   "cell_type": "code",
   "execution_count": 8,
   "id": "964e5acd",
   "metadata": {},
   "outputs": [
    {
     "name": "stdout",
     "output_type": "stream",
     "text": [
      "<class 'pandas.core.frame.DataFrame'>\n",
      "RangeIndex: 91637 entries, 0 to 91636\n",
      "Data columns (total 6 columns):\n",
      " #   Column      Non-Null Count  Dtype         \n",
      "---  ------      --------------  -----         \n",
      " 0   MovieID     91637 non-null  int64         \n",
      " 1   CustomerID  91637 non-null  int64         \n",
      " 2   rating      91637 non-null  int64         \n",
      " 3   Date        91637 non-null  datetime64[ns]\n",
      " 4   Year        91637 non-null  int64         \n",
      " 5   Name        91637 non-null  object        \n",
      "dtypes: datetime64[ns](1), int64(4), object(1)\n",
      "memory usage: 4.2+ MB\n",
      "\n",
      "Dimensions: (91637, 6)\n"
     ]
    }
   ],
   "source": [
    "import pandas as pd\n",
    "import numpy as np\n",
    "\n",
    "# Utilise directement le nom de fichier que vous semblez avoir\n",
    "df = pd.read_csv('data/global_df_test.csv' , parse_dates=['Date'])\n",
    "\n",
    "# Affiche les infos essentielles\n",
    "df.info()\n",
    "print(f\"\\nDimensions: {df.shape}\")"
   ]
  },
  {
   "cell_type": "markdown",
   "id": "f42ed885",
   "metadata": {},
   "source": [
    "# Mapper les IDs"
   ]
  },
  {
   "cell_type": "code",
   "execution_count": 9,
   "id": "1a40424a",
   "metadata": {},
   "outputs": [],
   "source": [
    "\n",
    "# 1. Mapper CustomerID -> user_idx\n",
    "unique_users = df['CustomerID'].unique()\n",
    "n_users = len(unique_users)\n",
    "user_to_idx = {original_id: new_idx for new_idx, original_id in enumerate(unique_users)}\n",
    "df['user_idx'] = df['CustomerID'].map(user_to_idx)\n",
    "\n"
   ]
  },
  {
   "cell_type": "code",
   "execution_count": 10,
   "id": "454f95db",
   "metadata": {},
   "outputs": [],
   "source": [
    "# 2. Mapper MovieID -> movie_idx\n",
    "unique_movies = df['MovieID'].unique()\n",
    "n_movies = len(unique_movies)\n",
    "movie_to_idx = {original_id: new_idx for new_idx, original_id in enumerate(unique_movies)}\n",
    "df['movie_idx'] = df['MovieID'].map(movie_to_idx)"
   ]
  },
  {
   "cell_type": "code",
   "execution_count": 13,
   "id": "1a267d6e",
   "metadata": {},
   "outputs": [
    {
     "name": "stdout",
     "output_type": "stream",
     "text": [
      "  Utilisateurs uniques trouvés (n_users) : 2000\n",
      "  Films uniques trouvés (n_movies)      : 50\n"
     ]
    }
   ],
   "source": [
    "\n",
    "print(f\"  Utilisateurs uniques trouvés (n_users) : {n_users}\")\n",
    "print(f\"  Films uniques trouvés (n_movies)      : {n_movies}\")\n"
   ]
  },
  {
   "cell_type": "code",
   "execution_count": 14,
   "id": "5f2f8d61",
   "metadata": {},
   "outputs": [
    {
     "name": "stdout",
     "output_type": "stream",
     "text": [
      "   CustomerID  user_idx  MovieID  movie_idx\n",
      "0     1468812         0     2372          0\n",
      "1      306466         1     2372          0\n",
      "2     1907667         2     2372          0\n",
      "3     1488844         3     2372          0\n",
      "4      923325         4     2372          0\n"
     ]
    }
   ],
   "source": [
    "print(df[['CustomerID', 'user_idx', 'MovieID', 'movie_idx']].head())"
   ]
  },
  {
   "cell_type": "code",
   "execution_count": 16,
   "id": "dd83371c",
   "metadata": {},
   "outputs": [
    {
     "data": {
      "text/html": [
       "<div>\n",
       "<style scoped>\n",
       "    .dataframe tbody tr th:only-of-type {\n",
       "        vertical-align: middle;\n",
       "    }\n",
       "\n",
       "    .dataframe tbody tr th {\n",
       "        vertical-align: top;\n",
       "    }\n",
       "\n",
       "    .dataframe thead th {\n",
       "        text-align: right;\n",
       "    }\n",
       "</style>\n",
       "<table border=\"1\" class=\"dataframe\">\n",
       "  <thead>\n",
       "    <tr style=\"text-align: right;\">\n",
       "      <th></th>\n",
       "      <th>MovieID</th>\n",
       "      <th>CustomerID</th>\n",
       "      <th>rating</th>\n",
       "      <th>Date</th>\n",
       "      <th>Year</th>\n",
       "      <th>Name</th>\n",
       "      <th>user_idx</th>\n",
       "      <th>movie_idx</th>\n",
       "    </tr>\n",
       "  </thead>\n",
       "  <tbody>\n",
       "    <tr>\n",
       "      <th>0</th>\n",
       "      <td>2372</td>\n",
       "      <td>1468812</td>\n",
       "      <td>5</td>\n",
       "      <td>2004-12-10</td>\n",
       "      <td>2004</td>\n",
       "      <td>The Bourne Supremacy</td>\n",
       "      <td>0</td>\n",
       "      <td>0</td>\n",
       "    </tr>\n",
       "    <tr>\n",
       "      <th>1</th>\n",
       "      <td>2372</td>\n",
       "      <td>306466</td>\n",
       "      <td>4</td>\n",
       "      <td>2004-12-14</td>\n",
       "      <td>2004</td>\n",
       "      <td>The Bourne Supremacy</td>\n",
       "      <td>1</td>\n",
       "      <td>0</td>\n",
       "    </tr>\n",
       "    <tr>\n",
       "      <th>2</th>\n",
       "      <td>2372</td>\n",
       "      <td>1907667</td>\n",
       "      <td>4</td>\n",
       "      <td>2004-12-30</td>\n",
       "      <td>2004</td>\n",
       "      <td>The Bourne Supremacy</td>\n",
       "      <td>2</td>\n",
       "      <td>0</td>\n",
       "    </tr>\n",
       "    <tr>\n",
       "      <th>3</th>\n",
       "      <td>2372</td>\n",
       "      <td>1488844</td>\n",
       "      <td>5</td>\n",
       "      <td>2005-04-04</td>\n",
       "      <td>2004</td>\n",
       "      <td>The Bourne Supremacy</td>\n",
       "      <td>3</td>\n",
       "      <td>0</td>\n",
       "    </tr>\n",
       "    <tr>\n",
       "      <th>4</th>\n",
       "      <td>2372</td>\n",
       "      <td>923325</td>\n",
       "      <td>4</td>\n",
       "      <td>2005-03-22</td>\n",
       "      <td>2004</td>\n",
       "      <td>The Bourne Supremacy</td>\n",
       "      <td>4</td>\n",
       "      <td>0</td>\n",
       "    </tr>\n",
       "  </tbody>\n",
       "</table>\n",
       "</div>"
      ],
      "text/plain": [
       "   MovieID  CustomerID  rating       Date  Year                  Name  \\\n",
       "0     2372     1468812       5 2004-12-10  2004  The Bourne Supremacy   \n",
       "1     2372      306466       4 2004-12-14  2004  The Bourne Supremacy   \n",
       "2     2372     1907667       4 2004-12-30  2004  The Bourne Supremacy   \n",
       "3     2372     1488844       5 2005-04-04  2004  The Bourne Supremacy   \n",
       "4     2372      923325       4 2005-03-22  2004  The Bourne Supremacy   \n",
       "\n",
       "   user_idx  movie_idx  \n",
       "0         0          0  \n",
       "1         1          0  \n",
       "2         2          0  \n",
       "3         3          0  \n",
       "4         4          0  "
      ]
     },
     "execution_count": 16,
     "metadata": {},
     "output_type": "execute_result"
    }
   ],
   "source": [
    "df.head()"
   ]
  },
  {
   "cell_type": "markdown",
   "id": "7d3d676e",
   "metadata": {},
   "source": [
    "# Trier les Données\n",
    "**Mettre toutes les lignes (notes) de chaque utilisateur ensemble, et pour chaque utilisateur, ordonner ses notes de la plus ancienne à la plus récente.**"
   ]
  },
  {
   "cell_type": "code",
   "execution_count": 21,
   "id": "b9f404a2",
   "metadata": {},
   "outputs": [
    {
     "data": {
      "text/html": [
       "<div>\n",
       "<style scoped>\n",
       "    .dataframe tbody tr th:only-of-type {\n",
       "        vertical-align: middle;\n",
       "    }\n",
       "\n",
       "    .dataframe tbody tr th {\n",
       "        vertical-align: top;\n",
       "    }\n",
       "\n",
       "    .dataframe thead th {\n",
       "        text-align: right;\n",
       "    }\n",
       "</style>\n",
       "<table border=\"1\" class=\"dataframe\">\n",
       "  <thead>\n",
       "    <tr style=\"text-align: right;\">\n",
       "      <th></th>\n",
       "      <th>MovieID</th>\n",
       "      <th>CustomerID</th>\n",
       "      <th>rating</th>\n",
       "      <th>Date</th>\n",
       "      <th>Year</th>\n",
       "      <th>Name</th>\n",
       "      <th>user_idx</th>\n",
       "      <th>movie_idx</th>\n",
       "    </tr>\n",
       "  </thead>\n",
       "  <tbody>\n",
       "    <tr>\n",
       "      <th>0</th>\n",
       "      <td>2862</td>\n",
       "      <td>1468812</td>\n",
       "      <td>5</td>\n",
       "      <td>2001-02-19</td>\n",
       "      <td>1991</td>\n",
       "      <td>The Silence of the Lambs</td>\n",
       "      <td>0</td>\n",
       "      <td>11</td>\n",
       "    </tr>\n",
       "    <tr>\n",
       "      <th>1</th>\n",
       "      <td>2953</td>\n",
       "      <td>1468812</td>\n",
       "      <td>5</td>\n",
       "      <td>2001-02-19</td>\n",
       "      <td>1987</td>\n",
       "      <td>Moonstruck</td>\n",
       "      <td>0</td>\n",
       "      <td>14</td>\n",
       "    </tr>\n",
       "    <tr>\n",
       "      <th>2</th>\n",
       "      <td>3605</td>\n",
       "      <td>1468812</td>\n",
       "      <td>4</td>\n",
       "      <td>2001-02-19</td>\n",
       "      <td>1939</td>\n",
       "      <td>The Wizard of Oz: Collector's Edition</td>\n",
       "      <td>0</td>\n",
       "      <td>25</td>\n",
       "    </tr>\n",
       "    <tr>\n",
       "      <th>3</th>\n",
       "      <td>4227</td>\n",
       "      <td>1468812</td>\n",
       "      <td>4</td>\n",
       "      <td>2001-02-19</td>\n",
       "      <td>1997</td>\n",
       "      <td>The Full Monty</td>\n",
       "      <td>0</td>\n",
       "      <td>41</td>\n",
       "    </tr>\n",
       "    <tr>\n",
       "      <th>4</th>\n",
       "      <td>4330</td>\n",
       "      <td>1468812</td>\n",
       "      <td>3</td>\n",
       "      <td>2001-02-19</td>\n",
       "      <td>1995</td>\n",
       "      <td>While You Were Sleeping</td>\n",
       "      <td>0</td>\n",
       "      <td>44</td>\n",
       "    </tr>\n",
       "    <tr>\n",
       "      <th>5</th>\n",
       "      <td>4306</td>\n",
       "      <td>1468812</td>\n",
       "      <td>5</td>\n",
       "      <td>2001-02-21</td>\n",
       "      <td>1999</td>\n",
       "      <td>The Sixth Sense</td>\n",
       "      <td>0</td>\n",
       "      <td>43</td>\n",
       "    </tr>\n",
       "    <tr>\n",
       "      <th>6</th>\n",
       "      <td>4262</td>\n",
       "      <td>1468812</td>\n",
       "      <td>4</td>\n",
       "      <td>2001-02-27</td>\n",
       "      <td>1999</td>\n",
       "      <td>Sleepy Hollow</td>\n",
       "      <td>0</td>\n",
       "      <td>42</td>\n",
       "    </tr>\n",
       "    <tr>\n",
       "      <th>7</th>\n",
       "      <td>3610</td>\n",
       "      <td>1468812</td>\n",
       "      <td>4</td>\n",
       "      <td>2001-03-14</td>\n",
       "      <td>1992</td>\n",
       "      <td>Lethal Weapon 3</td>\n",
       "      <td>0</td>\n",
       "      <td>26</td>\n",
       "    </tr>\n",
       "    <tr>\n",
       "      <th>8</th>\n",
       "      <td>3433</td>\n",
       "      <td>1468812</td>\n",
       "      <td>3</td>\n",
       "      <td>2001-04-04</td>\n",
       "      <td>1992</td>\n",
       "      <td>Forever Young</td>\n",
       "      <td>0</td>\n",
       "      <td>24</td>\n",
       "    </tr>\n",
       "    <tr>\n",
       "      <th>9</th>\n",
       "      <td>3782</td>\n",
       "      <td>1468812</td>\n",
       "      <td>4</td>\n",
       "      <td>2001-04-04</td>\n",
       "      <td>1990</td>\n",
       "      <td>Flatliners</td>\n",
       "      <td>0</td>\n",
       "      <td>30</td>\n",
       "    </tr>\n",
       "  </tbody>\n",
       "</table>\n",
       "</div>"
      ],
      "text/plain": [
       "   MovieID  CustomerID  rating       Date  Year  \\\n",
       "0     2862     1468812       5 2001-02-19  1991   \n",
       "1     2953     1468812       5 2001-02-19  1987   \n",
       "2     3605     1468812       4 2001-02-19  1939   \n",
       "3     4227     1468812       4 2001-02-19  1997   \n",
       "4     4330     1468812       3 2001-02-19  1995   \n",
       "5     4306     1468812       5 2001-02-21  1999   \n",
       "6     4262     1468812       4 2001-02-27  1999   \n",
       "7     3610     1468812       4 2001-03-14  1992   \n",
       "8     3433     1468812       3 2001-04-04  1992   \n",
       "9     3782     1468812       4 2001-04-04  1990   \n",
       "\n",
       "                                    Name  user_idx  movie_idx  \n",
       "0               The Silence of the Lambs         0         11  \n",
       "1                             Moonstruck         0         14  \n",
       "2  The Wizard of Oz: Collector's Edition         0         25  \n",
       "3                         The Full Monty         0         41  \n",
       "4                While You Were Sleeping         0         44  \n",
       "5                        The Sixth Sense         0         43  \n",
       "6                          Sleepy Hollow         0         42  \n",
       "7                        Lethal Weapon 3         0         26  \n",
       "8                          Forever Young         0         24  \n",
       "9                             Flatliners         0         30  "
      ]
     },
     "execution_count": 21,
     "metadata": {},
     "output_type": "execute_result"
    }
   ],
   "source": [
    "\n",
    "df.sort_values(by=['user_idx', 'Date'], ascending=True, inplace=True)\n",
    "\n",
    "# réinitialiser l'index\n",
    "# drop=True évite de garder l'ancien index comme une nouvelle colonne\n",
    "df.reset_index(drop=True, inplace=True)\n",
    "\n",
    "\n",
    "df.head(10)"
   ]
  },
  {
   "cell_type": "markdown",
   "id": "1ed7850d",
   "metadata": {},
   "source": [
    "# groupe par utilisateur\n",
    "**Obtenir, pour chaque user_idx, la liste ordonnée des movie_idx qu'il a notés et la liste ordonnée des Rating correspondants.**"
   ]
  },
  {
   "cell_type": "code",
   "execution_count": 25,
   "id": "fd329240",
   "metadata": {},
   "outputs": [
    {
     "data": {
      "text/plain": [
       "user_idx\n",
       "0       [11, 14, 25, 41, 44, 43, 42, 26, 24, 30, 15, 9...\n",
       "1       [43, 42, 14, 25, 2, 47, 11, 26, 41, 24, 44, 9,...\n",
       "2       [2, 11, 15, 39, 41, 43, 47, 19, 8, 9, 17, 23, ...\n",
       "3       [7, 23, 36, 40, 0, 35, 48, 4, 16, 10, 17, 24, ...\n",
       "4       [16, 21, 34, 0, 2, 3, 4, 7, 8, 9, 10, 20, 22, ...\n",
       "                              ...                        \n",
       "1995    [2, 3, 4, 5, 7, 14, 15, 22, 23, 24, 25, 28, 29...\n",
       "1996    [7, 14, 25, 28, 29, 30, 44, 2, 4, 8, 9, 10, 11...\n",
       "1997    [2, 5, 11, 15, 19, 25, 24, 43, 9, 41, 6, 39, 4...\n",
       "1998    [4, 5, 6, 7, 9, 10, 14, 17, 22, 23, 25, 27, 29...\n",
       "1999    [14, 2, 5, 25, 40, 41, 43, 47, 9, 11, 24, 26, ...\n",
       "Name: movie_idx, Length: 2000, dtype: object"
      ]
     },
     "execution_count": 25,
     "metadata": {},
     "output_type": "execute_result"
    }
   ],
   "source": [
    "df.groupby('user_idx')['movie_idx'].apply(list)"
   ]
  },
  {
   "cell_type": "code",
   "execution_count": 29,
   "id": "a7e089cc",
   "metadata": {},
   "outputs": [],
   "source": [
    "\n",
    "# Appliquer 'list' à la colonne 'movie_idx' pour chaque groupe d'user_idx\n",
    "user_movie_sequences = df.groupby('user_idx')['movie_idx'].apply(list)"
   ]
  },
  {
   "cell_type": "code",
   "execution_count": 27,
   "id": "45ff9867",
   "metadata": {},
   "outputs": [],
   "source": [
    "\n",
    "# Faire de même pour la colonne 'Rating'\n",
    "user_rating_sequences = df.groupby('user_idx')['rating'].apply(list)"
   ]
  },
  {
   "cell_type": "code",
   "execution_count": 31,
   "id": "2c48d8e3",
   "metadata": {},
   "outputs": [
    {
     "name": "stdout",
     "output_type": "stream",
     "text": [
      "Nombre de séquences utilisateur extraites: 2000 \n"
     ]
    }
   ],
   "source": [
    "print(f\"Nombre de séquences utilisateur extraites: {len(user_movie_sequences)} \") # Doit être égal à n_users\n"
   ]
  },
  {
   "cell_type": "markdown",
   "id": "af901317",
   "metadata": {},
   "source": [
    "**Créer des paires (séquence_entrée -> note_cible) où chaque séquence_entrée a une longueur fixe (max_len) et est potentiellement complétée par du \"padding\" (remplissage) si l'historique est trop court.**"
   ]
  },
  {
   "cell_type": "code",
   "execution_count": null,
   "id": "cd1a564a",
   "metadata": {},
   "outputs": [],
   "source": []
  },
  {
   "cell_type": "code",
   "execution_count": 33,
   "id": "3e2fb264",
   "metadata": {},
   "outputs": [],
   "source": [
    "from tensorflow.keras.preprocessing.sequence import pad_sequences\n"
   ]
  },
  {
   "cell_type": "code",
   "execution_count": 34,
   "id": "30b921c8",
   "metadata": {},
   "outputs": [],
   "source": [
    "max_len = 20          # Longueur fixe souhaitée\n",
    "pad_value_movie = n_movies # Valeur pour padder les films\n",
    "pad_value_rating = 0       # Valeur pour padder les notes\n"
   ]
  },
  {
   "cell_type": "code",
   "execution_count": 35,
   "id": "3541859c",
   "metadata": {},
   "outputs": [],
   "source": [
    "# Listes pour stocker les séquences AVANT padding\n",
    "unpadded_movie_seqs = []\n",
    "unpadded_rating_seqs = []\n",
    "all_target_ratings = []\n",
    "\n",
    "# Boucle pour extraire les sous-séquences et cibles\n",
    "for user_idx in user_movie_sequences.index:\n",
    "    movie_seq = user_movie_sequences[user_idx]\n",
    "    rating_seq = user_rating_sequences[user_idx]\n",
    "    for i in range(1, len(movie_seq)):\n",
    "        start_index = max(0, i - max_len)\n",
    "        # On ajoute les sous-séquences (non paddées) aux listes\n",
    "        unpadded_movie_seqs.append(movie_seq[start_index:i])\n",
    "        unpadded_rating_seqs.append(rating_seq[start_index:i])\n",
    "        # On ajoute la cible\n",
    "        all_target_ratings.append(rating_seq[i])"
   ]
  },
  {
   "cell_type": "code",
   "execution_count": null,
   "id": "6d92f4ad",
   "metadata": {},
   "outputs": [
    {
     "name": "stdout",
     "output_type": "stream",
     "text": [
      "Nombre d'échantillons bruts: 89637\n",
      "Padding des séquences et conversion NumPy...\n",
      "Padding et conversion terminés.\n",
      "\n",
      "Formes des tableaux NumPy créés:\n",
      "  X Movies : (89637, 20)\n",
      "  X Ratings: (89637, 20)\n",
      "  y Target : (89637,)\n",
      "\n",
      "Exemple (1er échantillon paddé):\n",
      "  Input Movies : [50 50 50 50 50 50 50 50 50 50 50 50 50 50 50 50 50 50 50 11]\n",
      "  Input Ratings: [0 0 0 0 0 0 0 0 0 0 0 0 0 0 0 0 0 0 0 5]\n",
      "  Target Rating: 5\n"
     ]
    }
   ],
   "source": [
    "\n",
    "total_samples = len(all_target_ratings)\n",
    "print(f\"Nombre d'échantillons bruts: {len(all_target_ratings)}\")\n",
    "\n",
    "# --- Padding et Conversion NumPy (après la boucle) ---\n",
    "if total_samples > 0:\n",
    "    print(\"Padding des séquences et conversion NumPy...\")\n",
    "    # Utiliser pad_sequences de Keras\n",
    "    # 'padding='pre'' ajoute le padding au début\n",
    "    # 'truncating='pre'' coupe le début si la séquence est trop longue (ne devrait pas arriver ici)\n",
    "    X_movie_seqs_np = pad_sequences(unpadded_movie_seqs, maxlen=max_len,\n",
    "                                    padding='pre', truncating='pre',\n",
    "                                    value=pad_value_movie) # Précise la valeur de padding\n",
    "\n",
    "    X_rating_seqs_np = pad_sequences(unpadded_rating_seqs, maxlen=max_len,\n",
    "                                     padding='pre', truncating='pre',\n",
    "                                     value=pad_value_rating) # Précise la valeur de padding\n",
    "\n",
    "    # Convertir les cibles\n",
    "    y_target_ratings_np = np.array(all_target_ratings, dtype=np.uint8)\n",
    "\n",
    "    # Ajuster les types après padding (pad_sequences renvoie souvent int32)\n",
    "    movie_dtype = np.uint16 if pad_value_movie < 65535 else np.uint32\n",
    "    X_movie_seqs_np = X_movie_seqs_np.astype(movie_dtype)\n",
    "    X_rating_seqs_np = X_rating_seqs_np.astype(np.uint8)\n",
    "\n",
    "    print(\"Padding et conversion terminés.\")\n",
    "\n",
    "    # --- Vérification ---\n",
    "    print(\"\\nFormes des tableaux NumPy créés:\")\n",
    "    print(f\"  X Movies : {X_movie_seqs_np.shape}\")\n",
    "    print(f\"  X Ratings: {X_rating_seqs_np.shape}\")\n",
    "    print(f\"  y Target : {y_target_ratings_np.shape}\")\n",
    "    print(\"\\nExemple (1er échantillon paddé):\")\n",
    "    print(f\"  Input Movies : {X_movie_seqs_np[0]}\")\n",
    "    print(f\"  Input Ratings: {X_rating_seqs_np[0]}\")\n",
    "    print(f\"  Target Rating: {y_target_ratings_np[0]}\")\n",
    "\n",
    "else:\n",
    "    print(\"Aucun échantillon généré.\")\n",
    "    X_movie_seqs_np, X_rating_seqs_np, y_target_ratings_np = np.array([]), np.array([]), np.array([])"
   ]
  },
  {
   "cell_type": "markdown",
   "id": "562df2d4",
   "metadata": {},
   "source": [
    "# Diviser les Données (Train/Validation)"
   ]
  },
  {
   "cell_type": "code",
   "execution_count": null,
   "id": "649b47cf",
   "metadata": {},
   "outputs": [],
   "source": []
  },
  {
   "cell_type": "code",
   "execution_count": 38,
   "id": "9fba949d",
   "metadata": {},
   "outputs": [
    {
     "name": "stdout",
     "output_type": "stream",
     "text": [
      "\n",
      "Formes des ensembles après division:\n",
      "  Train - Movies: (71709, 20), Ratings: (71709, 20), Target: (71709,)\n",
      "  Val   - Movies: (17928, 20), Ratings: (17928, 20), Target: (17928,)\n"
     ]
    }
   ],
   "source": [
    "from sklearn.model_selection import train_test_split\n",
    "\n",
    "\n",
    "# Paramètres\n",
    "validation_size = 0.2 # Taille de l'ensemble de validation (20%)\n",
    "random_seed = 42    # Pour obtenir la même division à chaque fois\n",
    "\n",
    "# Diviser les indices (car on a plusieurs X à diviser de la même façon)\n",
    "num_samples = X_movie_seqs_np.shape[0]\n",
    "indices = np.arange(num_samples)\n",
    "train_indices, val_indices = train_test_split(\n",
    "    indices,\n",
    "    test_size=validation_size,\n",
    "    random_state=random_seed\n",
    ")\n",
    "\n",
    "# Créer les ensembles finaux en utilisant les indices\n",
    "X_train_movies = X_movie_seqs_np[train_indices]\n",
    "X_train_ratings = X_rating_seqs_np[train_indices]\n",
    "y_train = y_target_ratings_np[train_indices]\n",
    "\n",
    "X_val_movies = X_movie_seqs_np[val_indices]\n",
    "X_val_ratings = X_rating_seqs_np[val_indices]\n",
    "y_val = y_target_ratings_np[val_indices]\n",
    "\n",
    "\n",
    "# --- Vérification Rapide ---\n",
    "print(\"\\nFormes des ensembles après division:\")\n",
    "print(f\"  Train - Movies: {X_train_movies.shape}, Ratings: {X_train_ratings.shape}, Target: {y_train.shape}\")\n",
    "print(f\"  Val   - Movies: {X_val_movies.shape}, Ratings: {X_val_ratings.shape}, Target: {y_val.shape}\")"
   ]
  },
  {
   "cell_type": "markdown",
   "id": "c8cfa0f7",
   "metadata": {},
   "source": [
    "# Définir l'Architecture du Modèle RNN"
   ]
  },
  {
   "cell_type": "code",
   "execution_count": null,
   "id": "58c9bb1b",
   "metadata": {},
   "outputs": [],
   "source": []
  }
 ],
 "metadata": {
  "kernelspec": {
   "display_name": "base",
   "language": "python",
   "name": "python3"
  },
  "language_info": {
   "codemirror_mode": {
    "name": "ipython",
    "version": 3
   },
   "file_extension": ".py",
   "mimetype": "text/x-python",
   "name": "python",
   "nbconvert_exporter": "python",
   "pygments_lexer": "ipython3",
   "version": "3.12.7"
  }
 },
 "nbformat": 4,
 "nbformat_minor": 5
}
