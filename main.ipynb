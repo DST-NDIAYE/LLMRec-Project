{
 "cells": [
  {
   "cell_type": "code",
   "execution_count": 1,
   "id": "964e5acd",
   "metadata": {},
   "outputs": [
    {
     "name": "stdout",
     "output_type": "stream",
     "text": [
      "<class 'pandas.core.frame.DataFrame'>\n",
      "RangeIndex: 252498 entries, 0 to 252497\n",
      "Data columns (total 6 columns):\n",
      " #   Column      Non-Null Count   Dtype         \n",
      "---  ------      --------------   -----         \n",
      " 0   MovieID     252498 non-null  int64         \n",
      " 1   CustomerID  252498 non-null  int64         \n",
      " 2   rating      252498 non-null  int64         \n",
      " 3   Date        252498 non-null  datetime64[ns]\n",
      " 4   Year        252498 non-null  int64         \n",
      " 5   Name        252498 non-null  object        \n",
      "dtypes: datetime64[ns](1), int64(4), object(1)\n",
      "memory usage: 11.6+ MB\n",
      "\n",
      "Dimensions: (252498, 6)\n"
     ]
    }
   ],
   "source": [
    "import pandas as pd\n",
    "import numpy as np\n",
    "\n",
    "# Utilise directement le nom de fichier que vous semblez avoir\n",
    "df = pd.read_csv('data/global_df_train.csv' , parse_dates=['Date'])\n",
    "\n",
    "# Affiche les infos essentielles\n",
    "df.info()\n",
    "print(f\"\\nDimensions: {df.shape}\")"
   ]
  },
  {
   "cell_type": "markdown",
   "id": "f42ed885",
   "metadata": {},
   "source": [
    "# Mapper les IDs"
   ]
  },
  {
   "cell_type": "code",
   "execution_count": 2,
   "id": "1a40424a",
   "metadata": {},
   "outputs": [],
   "source": [
    "\n",
    "# 1. Mapper CustomerID -> user_idx\n",
    "unique_users = df['CustomerID'].unique()\n",
    "n_users = len(unique_users)\n",
    "user_to_idx = {original_id: new_idx for new_idx, original_id in enumerate(unique_users)}\n",
    "df['user_idx'] = df['CustomerID'].map(user_to_idx)\n",
    "\n"
   ]
  },
  {
   "cell_type": "code",
   "execution_count": 3,
   "id": "454f95db",
   "metadata": {},
   "outputs": [],
   "source": [
    "# 2. Mapper MovieID -> movie_idx\n",
    "unique_movies = df['MovieID'].unique()\n",
    "n_movies = len(unique_movies)\n",
    "movie_to_idx = {original_id: new_idx for new_idx, original_id in enumerate(unique_movies)}\n",
    "df['movie_idx'] = df['MovieID'].map(movie_to_idx)"
   ]
  },
  {
   "cell_type": "code",
   "execution_count": 4,
   "id": "1a267d6e",
   "metadata": {},
   "outputs": [
    {
     "name": "stdout",
     "output_type": "stream",
     "text": [
      "  Utilisateurs uniques trouvés (n_users) : 2000\n",
      "  Films uniques trouvés (n_movies)      : 900\n"
     ]
    }
   ],
   "source": [
    "\n",
    "print(f\"  Utilisateurs uniques trouvés (n_users) : {n_users}\")\n",
    "print(f\"  Films uniques trouvés (n_movies)      : {n_movies}\")\n"
   ]
  },
  {
   "cell_type": "code",
   "execution_count": 5,
   "id": "5f2f8d61",
   "metadata": {},
   "outputs": [
    {
     "name": "stdout",
     "output_type": "stream",
     "text": [
      "   CustomerID  user_idx  MovieID  movie_idx\n",
      "0        3595         0     4136          0\n",
      "1        3595         0     1861          1\n",
      "2        3595         0     3638          2\n",
      "3        3595         0     2391          3\n",
      "4        3595         0     1289          4\n"
     ]
    }
   ],
   "source": [
    "print(df[['CustomerID', 'user_idx', 'MovieID', 'movie_idx']].head())"
   ]
  },
  {
   "cell_type": "code",
   "execution_count": 6,
   "id": "dd83371c",
   "metadata": {},
   "outputs": [
    {
     "data": {
      "text/html": [
       "<div>\n",
       "<style scoped>\n",
       "    .dataframe tbody tr th:only-of-type {\n",
       "        vertical-align: middle;\n",
       "    }\n",
       "\n",
       "    .dataframe tbody tr th {\n",
       "        vertical-align: top;\n",
       "    }\n",
       "\n",
       "    .dataframe thead th {\n",
       "        text-align: right;\n",
       "    }\n",
       "</style>\n",
       "<table border=\"1\" class=\"dataframe\">\n",
       "  <thead>\n",
       "    <tr style=\"text-align: right;\">\n",
       "      <th></th>\n",
       "      <th>MovieID</th>\n",
       "      <th>CustomerID</th>\n",
       "      <th>rating</th>\n",
       "      <th>Date</th>\n",
       "      <th>Year</th>\n",
       "      <th>Name</th>\n",
       "      <th>user_idx</th>\n",
       "      <th>movie_idx</th>\n",
       "    </tr>\n",
       "  </thead>\n",
       "  <tbody>\n",
       "    <tr>\n",
       "      <th>0</th>\n",
       "      <td>4136</td>\n",
       "      <td>3595</td>\n",
       "      <td>1</td>\n",
       "      <td>2004-02-06</td>\n",
       "      <td>1993</td>\n",
       "      <td>Teenage Mutant Ninja Turtles III</td>\n",
       "      <td>0</td>\n",
       "      <td>0</td>\n",
       "    </tr>\n",
       "    <tr>\n",
       "      <th>1</th>\n",
       "      <td>1861</td>\n",
       "      <td>3595</td>\n",
       "      <td>1</td>\n",
       "      <td>2004-02-06</td>\n",
       "      <td>2001</td>\n",
       "      <td>Evolution</td>\n",
       "      <td>0</td>\n",
       "      <td>1</td>\n",
       "    </tr>\n",
       "    <tr>\n",
       "      <th>2</th>\n",
       "      <td>3638</td>\n",
       "      <td>3595</td>\n",
       "      <td>1</td>\n",
       "      <td>2004-02-28</td>\n",
       "      <td>2003</td>\n",
       "      <td>Bad Boys II</td>\n",
       "      <td>0</td>\n",
       "      <td>2</td>\n",
       "    </tr>\n",
       "    <tr>\n",
       "      <th>3</th>\n",
       "      <td>2391</td>\n",
       "      <td>3595</td>\n",
       "      <td>1</td>\n",
       "      <td>2004-09-12</td>\n",
       "      <td>2004</td>\n",
       "      <td>Along Came Polly</td>\n",
       "      <td>0</td>\n",
       "      <td>3</td>\n",
       "    </tr>\n",
       "    <tr>\n",
       "      <th>4</th>\n",
       "      <td>1289</td>\n",
       "      <td>3595</td>\n",
       "      <td>1</td>\n",
       "      <td>2004-02-06</td>\n",
       "      <td>1990</td>\n",
       "      <td>Look Who's Talking Too</td>\n",
       "      <td>0</td>\n",
       "      <td>4</td>\n",
       "    </tr>\n",
       "  </tbody>\n",
       "</table>\n",
       "</div>"
      ],
      "text/plain": [
       "   MovieID  CustomerID  rating       Date  Year  \\\n",
       "0     4136        3595       1 2004-02-06  1993   \n",
       "1     1861        3595       1 2004-02-06  2001   \n",
       "2     3638        3595       1 2004-02-28  2003   \n",
       "3     2391        3595       1 2004-09-12  2004   \n",
       "4     1289        3595       1 2004-02-06  1990   \n",
       "\n",
       "                               Name  user_idx  movie_idx  \n",
       "0  Teenage Mutant Ninja Turtles III         0          0  \n",
       "1                         Evolution         0          1  \n",
       "2                       Bad Boys II         0          2  \n",
       "3                  Along Came Polly         0          3  \n",
       "4            Look Who's Talking Too         0          4  "
      ]
     },
     "execution_count": 6,
     "metadata": {},
     "output_type": "execute_result"
    }
   ],
   "source": [
    "df.head()"
   ]
  },
  {
   "cell_type": "markdown",
   "id": "7d3d676e",
   "metadata": {},
   "source": [
    "# Trier les Données\n",
    "**Mettre toutes les lignes (notes) de chaque utilisateur ensemble, et pour chaque utilisateur, ordonner ses notes de la plus ancienne à la plus récente.**"
   ]
  },
  {
   "cell_type": "code",
   "execution_count": 7,
   "id": "b9f404a2",
   "metadata": {},
   "outputs": [
    {
     "data": {
      "text/html": [
       "<div>\n",
       "<style scoped>\n",
       "    .dataframe tbody tr th:only-of-type {\n",
       "        vertical-align: middle;\n",
       "    }\n",
       "\n",
       "    .dataframe tbody tr th {\n",
       "        vertical-align: top;\n",
       "    }\n",
       "\n",
       "    .dataframe thead th {\n",
       "        text-align: right;\n",
       "    }\n",
       "</style>\n",
       "<table border=\"1\" class=\"dataframe\">\n",
       "  <thead>\n",
       "    <tr style=\"text-align: right;\">\n",
       "      <th></th>\n",
       "      <th>MovieID</th>\n",
       "      <th>CustomerID</th>\n",
       "      <th>rating</th>\n",
       "      <th>Date</th>\n",
       "      <th>Year</th>\n",
       "      <th>Name</th>\n",
       "      <th>user_idx</th>\n",
       "      <th>movie_idx</th>\n",
       "    </tr>\n",
       "  </thead>\n",
       "  <tbody>\n",
       "    <tr>\n",
       "      <th>0</th>\n",
       "      <td>2386</td>\n",
       "      <td>3595</td>\n",
       "      <td>1</td>\n",
       "      <td>2003-03-26</td>\n",
       "      <td>2002</td>\n",
       "      <td>Pumpkin</td>\n",
       "      <td>0</td>\n",
       "      <td>11</td>\n",
       "    </tr>\n",
       "    <tr>\n",
       "      <th>1</th>\n",
       "      <td>329</td>\n",
       "      <td>3595</td>\n",
       "      <td>2</td>\n",
       "      <td>2003-03-26</td>\n",
       "      <td>1999</td>\n",
       "      <td>Dogma</td>\n",
       "      <td>0</td>\n",
       "      <td>52</td>\n",
       "    </tr>\n",
       "    <tr>\n",
       "      <th>2</th>\n",
       "      <td>788</td>\n",
       "      <td>3595</td>\n",
       "      <td>5</td>\n",
       "      <td>2003-03-26</td>\n",
       "      <td>1994</td>\n",
       "      <td>Clerks</td>\n",
       "      <td>0</td>\n",
       "      <td>141</td>\n",
       "    </tr>\n",
       "    <tr>\n",
       "      <th>3</th>\n",
       "      <td>313</td>\n",
       "      <td>3595</td>\n",
       "      <td>2</td>\n",
       "      <td>2003-03-28</td>\n",
       "      <td>2000</td>\n",
       "      <td>Pay It Forward</td>\n",
       "      <td>0</td>\n",
       "      <td>46</td>\n",
       "    </tr>\n",
       "    <tr>\n",
       "      <th>4</th>\n",
       "      <td>3106</td>\n",
       "      <td>3595</td>\n",
       "      <td>3</td>\n",
       "      <td>2003-03-28</td>\n",
       "      <td>1990</td>\n",
       "      <td>Ghost</td>\n",
       "      <td>0</td>\n",
       "      <td>69</td>\n",
       "    </tr>\n",
       "    <tr>\n",
       "      <th>5</th>\n",
       "      <td>2192</td>\n",
       "      <td>3595</td>\n",
       "      <td>4</td>\n",
       "      <td>2003-03-28</td>\n",
       "      <td>1999</td>\n",
       "      <td>The Hurricane</td>\n",
       "      <td>0</td>\n",
       "      <td>96</td>\n",
       "    </tr>\n",
       "    <tr>\n",
       "      <th>6</th>\n",
       "      <td>3798</td>\n",
       "      <td>3595</td>\n",
       "      <td>4</td>\n",
       "      <td>2003-03-28</td>\n",
       "      <td>1973</td>\n",
       "      <td>The Sting</td>\n",
       "      <td>0</td>\n",
       "      <td>112</td>\n",
       "    </tr>\n",
       "    <tr>\n",
       "      <th>7</th>\n",
       "      <td>175</td>\n",
       "      <td>3595</td>\n",
       "      <td>5</td>\n",
       "      <td>2003-03-28</td>\n",
       "      <td>1992</td>\n",
       "      <td>Reservoir Dogs</td>\n",
       "      <td>0</td>\n",
       "      <td>139</td>\n",
       "    </tr>\n",
       "    <tr>\n",
       "      <th>8</th>\n",
       "      <td>571</td>\n",
       "      <td>3595</td>\n",
       "      <td>5</td>\n",
       "      <td>2003-03-28</td>\n",
       "      <td>1999</td>\n",
       "      <td>American Beauty</td>\n",
       "      <td>0</td>\n",
       "      <td>149</td>\n",
       "    </tr>\n",
       "    <tr>\n",
       "      <th>9</th>\n",
       "      <td>4043</td>\n",
       "      <td>3595</td>\n",
       "      <td>2</td>\n",
       "      <td>2003-03-29</td>\n",
       "      <td>2002</td>\n",
       "      <td>Signs</td>\n",
       "      <td>0</td>\n",
       "      <td>31</td>\n",
       "    </tr>\n",
       "  </tbody>\n",
       "</table>\n",
       "</div>"
      ],
      "text/plain": [
       "   MovieID  CustomerID  rating       Date  Year             Name  user_idx  \\\n",
       "0     2386        3595       1 2003-03-26  2002          Pumpkin         0   \n",
       "1      329        3595       2 2003-03-26  1999            Dogma         0   \n",
       "2      788        3595       5 2003-03-26  1994           Clerks         0   \n",
       "3      313        3595       2 2003-03-28  2000   Pay It Forward         0   \n",
       "4     3106        3595       3 2003-03-28  1990            Ghost         0   \n",
       "5     2192        3595       4 2003-03-28  1999    The Hurricane         0   \n",
       "6     3798        3595       4 2003-03-28  1973        The Sting         0   \n",
       "7      175        3595       5 2003-03-28  1992   Reservoir Dogs         0   \n",
       "8      571        3595       5 2003-03-28  1999  American Beauty         0   \n",
       "9     4043        3595       2 2003-03-29  2002            Signs         0   \n",
       "\n",
       "   movie_idx  \n",
       "0         11  \n",
       "1         52  \n",
       "2        141  \n",
       "3         46  \n",
       "4         69  \n",
       "5         96  \n",
       "6        112  \n",
       "7        139  \n",
       "8        149  \n",
       "9         31  "
      ]
     },
     "execution_count": 7,
     "metadata": {},
     "output_type": "execute_result"
    }
   ],
   "source": [
    "\n",
    "df.sort_values(by=['user_idx', 'Date'], ascending=True, inplace=True)\n",
    "\n",
    "# réinitialiser l'index\n",
    "# drop=True évite de garder l'ancien index comme une nouvelle colonne\n",
    "df.reset_index(drop=True, inplace=True)\n",
    "\n",
    "\n",
    "df.head(10)"
   ]
  },
  {
   "cell_type": "markdown",
   "id": "1ed7850d",
   "metadata": {},
   "source": [
    "# groupe par utilisateur\n",
    "**Obtenir, pour chaque user_idx, la liste ordonnée des movie_idx qu'il a notés et la liste ordonnée des Rating correspondants.**"
   ]
  },
  {
   "cell_type": "code",
   "execution_count": 8,
   "id": "fd329240",
   "metadata": {},
   "outputs": [
    {
     "data": {
      "text/plain": [
       "user_idx\n",
       "0       [11, 52, 141, 46, 69, 96, 112, 139, 149, 31, 1...\n",
       "1       [20, 41, 182, 9, 164, 169, 19, 18, 176, 179, 8...\n",
       "2       [302, 75, 279, 303, 120, 129, 126, 140, 247, 1...\n",
       "3       [214, 210, 228, 26, 253, 322, 325, 343, 202, 3...\n",
       "4       [16, 396, 397, 34, 375, 215, 381, 384, 93, 394...\n",
       "                              ...                        \n",
       "1995    [155, 26, 56, 695, 341, 47, 73, 38, 401, 82, 1...\n",
       "1996    [23, 179, 224, 478, 809, 422, 298, 272, 336, 8...\n",
       "1997    [2, 3, 84, 31, 66, 597, 409, 156, 419, 350, 62...\n",
       "1998    [33, 56, 7, 321, 343, 176, 82, 31, 164, 447, 4...\n",
       "1999    [168, 31, 645, 563, 343, 58, 82, 5, 208, 435, ...\n",
       "Name: movie_idx, Length: 2000, dtype: object"
      ]
     },
     "execution_count": 8,
     "metadata": {},
     "output_type": "execute_result"
    }
   ],
   "source": [
    "df.groupby('user_idx')['movie_idx'].apply(list)"
   ]
  },
  {
   "cell_type": "code",
   "execution_count": 9,
   "id": "a7e089cc",
   "metadata": {},
   "outputs": [],
   "source": [
    "\n",
    "# Appliquer 'list' à la colonne 'movie_idx' pour chaque groupe d'user_idx\n",
    "user_movie_sequences = df.groupby('user_idx')['movie_idx'].apply(list)"
   ]
  },
  {
   "cell_type": "code",
   "execution_count": 10,
   "id": "45ff9867",
   "metadata": {},
   "outputs": [],
   "source": [
    "\n",
    "# Faire de même pour la colonne 'Rating'\n",
    "user_rating_sequences = df.groupby('user_idx')['rating'].apply(list)"
   ]
  },
  {
   "cell_type": "code",
   "execution_count": 11,
   "id": "2c48d8e3",
   "metadata": {},
   "outputs": [
    {
     "name": "stdout",
     "output_type": "stream",
     "text": [
      "Nombre de séquences utilisateur extraites: 2000 \n"
     ]
    }
   ],
   "source": [
    "print(f\"Nombre de séquences utilisateur extraites: {len(user_movie_sequences)} \") # Doit être égal à n_users\n"
   ]
  },
  {
   "cell_type": "markdown",
   "id": "af901317",
   "metadata": {},
   "source": [
    "**Créer des paires (séquence_entrée -> note_cible) où chaque séquence_entrée a une longueur fixe (max_len) et est potentiellement complétée par du \"padding\" (remplissage) si l'historique est trop court.**"
   ]
  },
  {
   "cell_type": "code",
   "execution_count": null,
   "id": "cd1a564a",
   "metadata": {},
   "outputs": [],
   "source": []
  },
  {
   "cell_type": "code",
   "execution_count": 12,
   "id": "3e2fb264",
   "metadata": {},
   "outputs": [],
   "source": [
    "from tensorflow.keras.preprocessing.sequence import pad_sequences\n"
   ]
  },
  {
   "cell_type": "code",
   "execution_count": 13,
   "id": "30b921c8",
   "metadata": {},
   "outputs": [],
   "source": [
    "max_len = 20          # Longueur fixe souhaitée\n",
    "pad_value_movie = n_movies # Valeur pour padder les films\n",
    "pad_value_rating = 0       # Valeur pour padder les notes\n"
   ]
  },
  {
   "cell_type": "code",
   "execution_count": 14,
   "id": "3541859c",
   "metadata": {},
   "outputs": [],
   "source": [
    "# Listes pour stocker les séquences AVANT padding\n",
    "unpadded_movie_seqs = []\n",
    "unpadded_rating_seqs = []\n",
    "all_target_ratings = []\n",
    "\n",
    "# Boucle pour extraire les sous-séquences et cibles\n",
    "for user_idx in user_movie_sequences.index:\n",
    "    movie_seq = user_movie_sequences[user_idx]\n",
    "    rating_seq = user_rating_sequences[user_idx]\n",
    "    for i in range(1, len(movie_seq)):\n",
    "        start_index = max(0, i - max_len)\n",
    "        # On ajoute les sous-séquences (non paddées) aux listes\n",
    "        unpadded_movie_seqs.append(movie_seq[start_index:i])\n",
    "        unpadded_rating_seqs.append(rating_seq[start_index:i])\n",
    "        # On ajoute la cible\n",
    "        all_target_ratings.append(rating_seq[i])"
   ]
  },
  {
   "cell_type": "code",
   "execution_count": 15,
   "id": "6d92f4ad",
   "metadata": {},
   "outputs": [
    {
     "name": "stdout",
     "output_type": "stream",
     "text": [
      "Nombre d'échantillons bruts: 250498\n",
      "Padding des séquences et conversion NumPy...\n",
      "Padding et conversion terminés.\n",
      "\n",
      "Formes des tableaux NumPy créés:\n",
      "  X Movies : (250498, 20)\n",
      "  X Ratings: (250498, 20)\n",
      "  y Target : (250498,)\n",
      "\n",
      "Exemple (1er échantillon paddé):\n",
      "  Input Movies : [900 900 900 900 900 900 900 900 900 900 900 900 900 900 900 900 900 900\n",
      " 900  11]\n",
      "  Input Ratings: [0 0 0 0 0 0 0 0 0 0 0 0 0 0 0 0 0 0 0 1]\n",
      "  Target Rating: 2\n"
     ]
    }
   ],
   "source": [
    "\n",
    "total_samples = len(all_target_ratings)\n",
    "print(f\"Nombre d'échantillons bruts: {len(all_target_ratings)}\")\n",
    "\n",
    "# --- Padding et Conversion NumPy (après la boucle) ---\n",
    "if total_samples > 0:\n",
    "    print(\"Padding des séquences et conversion NumPy...\")\n",
    "    # Utiliser pad_sequences de Keras\n",
    "    # 'padding='pre'' ajoute le padding au début\n",
    "    # 'truncating='pre'' coupe le début si la séquence est trop longue (ne devrait pas arriver ici)\n",
    "    X_movie_seqs_np = pad_sequences(unpadded_movie_seqs, maxlen=max_len,\n",
    "                                    padding='pre', truncating='pre',\n",
    "                                    value=pad_value_movie) # Précise la valeur de padding\n",
    "\n",
    "    X_rating_seqs_np = pad_sequences(unpadded_rating_seqs, maxlen=max_len,\n",
    "                                     padding='pre', truncating='pre',\n",
    "                                     value=pad_value_rating) # Précise la valeur de padding\n",
    "\n",
    "    # Convertir les cibles\n",
    "    y_target_ratings_np = np.array(all_target_ratings, dtype=np.uint8)\n",
    "\n",
    "    # Ajuster les types après padding (pad_sequences renvoie souvent int32)\n",
    "    movie_dtype = np.uint16 if pad_value_movie < 65535 else np.uint32\n",
    "    X_movie_seqs_np = X_movie_seqs_np.astype(movie_dtype)\n",
    "    X_rating_seqs_np = X_rating_seqs_np.astype(np.uint8)\n",
    "\n",
    "    print(\"Padding et conversion terminés.\")\n",
    "\n",
    "    # --- Vérification ---\n",
    "    print(\"\\nFormes des tableaux NumPy créés:\")\n",
    "    print(f\"  X Movies : {X_movie_seqs_np.shape}\")\n",
    "    print(f\"  X Ratings: {X_rating_seqs_np.shape}\")\n",
    "    print(f\"  y Target : {y_target_ratings_np.shape}\")\n",
    "    print(\"\\nExemple (1er échantillon paddé):\")\n",
    "    print(f\"  Input Movies : {X_movie_seqs_np[0]}\")\n",
    "    print(f\"  Input Ratings: {X_rating_seqs_np[0]}\")\n",
    "    print(f\"  Target Rating: {y_target_ratings_np[0]}\")\n",
    "\n",
    "else:\n",
    "    print(\"Aucun échantillon généré.\")\n",
    "    X_movie_seqs_np, X_rating_seqs_np, y_target_ratings_np = np.array([]), np.array([]), np.array([])"
   ]
  },
  {
   "cell_type": "markdown",
   "id": "562df2d4",
   "metadata": {},
   "source": [
    "# Diviser les Données (Train/Validation)"
   ]
  },
  {
   "cell_type": "code",
   "execution_count": null,
   "id": "649b47cf",
   "metadata": {},
   "outputs": [],
   "source": []
  },
  {
   "cell_type": "code",
   "execution_count": 16,
   "id": "9fba949d",
   "metadata": {},
   "outputs": [
    {
     "name": "stdout",
     "output_type": "stream",
     "text": [
      "\n",
      "Formes des ensembles après division:\n",
      "  Train - Movies: (200398, 20), Ratings: (200398, 20), Target: (200398,)\n",
      "  Val   - Movies: (50100, 20), Ratings: (50100, 20), Target: (50100,)\n"
     ]
    }
   ],
   "source": [
    "from sklearn.model_selection import train_test_split\n",
    "\n",
    "\n",
    "# Paramètres\n",
    "validation_size = 0.2 # Taille de l'ensemble de validation (20%)\n",
    "random_seed = 42    # Pour obtenir la même division à chaque fois\n",
    "\n",
    "# Diviser les indices (car on a plusieurs X à diviser de la même façon)\n",
    "num_samples = X_movie_seqs_np.shape[0]\n",
    "indices = np.arange(num_samples)\n",
    "train_indices, val_indices = train_test_split(\n",
    "    indices,\n",
    "    test_size=validation_size,\n",
    "    random_state=random_seed\n",
    ")\n",
    "\n",
    "# Créer les ensembles finaux en utilisant les indices\n",
    "X_train_movies = X_movie_seqs_np[train_indices]\n",
    "X_train_ratings = X_rating_seqs_np[train_indices]\n",
    "y_train = y_target_ratings_np[train_indices]\n",
    "\n",
    "X_val_movies = X_movie_seqs_np[val_indices]\n",
    "X_val_ratings = X_rating_seqs_np[val_indices]\n",
    "y_val = y_target_ratings_np[val_indices]\n",
    "\n",
    "\n",
    "# --- Vérification Rapide ---\n",
    "print(\"\\nFormes des ensembles après division:\")\n",
    "print(f\"  Train - Movies: {X_train_movies.shape}, Ratings: {X_train_ratings.shape}, Target: {y_train.shape}\")\n",
    "print(f\"  Val   - Movies: {X_val_movies.shape}, Ratings: {X_val_ratings.shape}, Target: {y_val.shape}\")"
   ]
  },
  {
   "cell_type": "markdown",
   "id": "c8cfa0f7",
   "metadata": {},
   "source": [
    "# Définir l'Architecture du Modèle RNN"
   ]
  },
  {
   "cell_type": "code",
   "execution_count": 17,
   "id": "58c9bb1b",
   "metadata": {},
   "outputs": [
    {
     "name": "stdout",
     "output_type": "stream",
     "text": [
      "INFO: Stratégie non définie, utilisation de la stratégie par défaut.\n",
      "\n",
      "--- Étape 7: Définition Architecture Modèle RNN ---\n"
     ]
    },
    {
     "name": "stderr",
     "output_type": "stream",
     "text": [
      "2025-05-05 10:34:00.515471: I metal_plugin/src/device/metal_device.cc:1154] Metal device set to: Apple M3\n",
      "2025-05-05 10:34:00.515612: I metal_plugin/src/device/metal_device.cc:296] systemMemory: 16.00 GB\n",
      "2025-05-05 10:34:00.515618: I metal_plugin/src/device/metal_device.cc:313] maxCacheSize: 5.33 GB\n",
      "2025-05-05 10:34:00.515842: I tensorflow/core/common_runtime/pluggable_device/pluggable_device_factory.cc:305] Could not identify NUMA node of platform GPU ID 0, defaulting to 0. Your kernel may not have been built with NUMA support.\n",
      "2025-05-05 10:34:00.515853: I tensorflow/core/common_runtime/pluggable_device/pluggable_device_factory.cc:271] Created TensorFlow device (/job:localhost/replica:0/task:0/device:GPU:0 with 0 MB memory) -> physical PluggableDevice (device: 0, name: METAL, pci bus id: <undefined>)\n"
     ]
    },
    {
     "name": "stdout",
     "output_type": "stream",
     "text": [
      "Définition et compilation terminées en 0.84 sec.\n",
      "\n",
      "Résumé du Modèle:\n"
     ]
    },
    {
     "data": {
      "text/html": [
       "<pre style=\"white-space:pre;overflow-x:auto;line-height:normal;font-family:Menlo,'DejaVu Sans Mono',consolas,'Courier New',monospace\"><span style=\"font-weight: bold\">Model: \"Simple_RNN_Recommender\"</span>\n",
       "</pre>\n"
      ],
      "text/plain": [
       "\u001b[1mModel: \"Simple_RNN_Recommender\"\u001b[0m\n"
      ]
     },
     "metadata": {},
     "output_type": "display_data"
    },
    {
     "data": {
      "text/html": [
       "<pre style=\"white-space:pre;overflow-x:auto;line-height:normal;font-family:Menlo,'DejaVu Sans Mono',consolas,'Courier New',monospace\">┏━━━━━━━━━━━━━━━━━━━━━┳━━━━━━━━━━━━━━━━━━━┳━━━━━━━━━━━━┳━━━━━━━━━━━━━━━━━━━┓\n",
       "┃<span style=\"font-weight: bold\"> Layer (type)        </span>┃<span style=\"font-weight: bold\"> Output Shape      </span>┃<span style=\"font-weight: bold\">    Param # </span>┃<span style=\"font-weight: bold\"> Connected to      </span>┃\n",
       "┡━━━━━━━━━━━━━━━━━━━━━╇━━━━━━━━━━━━━━━━━━━╇━━━━━━━━━━━━╇━━━━━━━━━━━━━━━━━━━┩\n",
       "│ input_movie_indices │ (<span style=\"color: #00d7ff; text-decoration-color: #00d7ff\">None</span>, <span style=\"color: #00af00; text-decoration-color: #00af00\">20</span>)        │          <span style=\"color: #00af00; text-decoration-color: #00af00\">0</span> │ -                 │\n",
       "│ (<span style=\"color: #0087ff; text-decoration-color: #0087ff\">InputLayer</span>)        │                   │            │                   │\n",
       "├─────────────────────┼───────────────────┼────────────┼───────────────────┤\n",
       "│ input_rating_values │ (<span style=\"color: #00d7ff; text-decoration-color: #00d7ff\">None</span>, <span style=\"color: #00af00; text-decoration-color: #00af00\">20</span>)        │          <span style=\"color: #00af00; text-decoration-color: #00af00\">0</span> │ -                 │\n",
       "│ (<span style=\"color: #0087ff; text-decoration-color: #0087ff\">InputLayer</span>)        │                   │            │                   │\n",
       "├─────────────────────┼───────────────────┼────────────┼───────────────────┤\n",
       "│ movie_embedding     │ (<span style=\"color: #00d7ff; text-decoration-color: #00d7ff\">None</span>, <span style=\"color: #00af00; text-decoration-color: #00af00\">20</span>, <span style=\"color: #00af00; text-decoration-color: #00af00\">64</span>)    │     <span style=\"color: #00af00; text-decoration-color: #00af00\">57,664</span> │ input_movie_indi… │\n",
       "│ (<span style=\"color: #0087ff; text-decoration-color: #0087ff\">Embedding</span>)         │                   │            │                   │\n",
       "├─────────────────────┼───────────────────┼────────────┼───────────────────┤\n",
       "│ rating_embedding    │ (<span style=\"color: #00d7ff; text-decoration-color: #00d7ff\">None</span>, <span style=\"color: #00af00; text-decoration-color: #00af00\">20</span>, <span style=\"color: #00af00; text-decoration-color: #00af00\">8</span>)     │         <span style=\"color: #00af00; text-decoration-color: #00af00\">48</span> │ input_rating_val… │\n",
       "│ (<span style=\"color: #0087ff; text-decoration-color: #0087ff\">Embedding</span>)         │                   │            │                   │\n",
       "├─────────────────────┼───────────────────┼────────────┼───────────────────┤\n",
       "│ concat_features     │ (<span style=\"color: #00d7ff; text-decoration-color: #00d7ff\">None</span>, <span style=\"color: #00af00; text-decoration-color: #00af00\">20</span>, <span style=\"color: #00af00; text-decoration-color: #00af00\">72</span>)    │          <span style=\"color: #00af00; text-decoration-color: #00af00\">0</span> │ movie_embedding[<span style=\"color: #00af00; text-decoration-color: #00af00\">…</span> │\n",
       "│ (<span style=\"color: #0087ff; text-decoration-color: #0087ff\">Concatenate</span>)       │                   │            │ rating_embedding… │\n",
       "├─────────────────────┼───────────────────┼────────────┼───────────────────┤\n",
       "│ dropout_features    │ (<span style=\"color: #00d7ff; text-decoration-color: #00d7ff\">None</span>, <span style=\"color: #00af00; text-decoration-color: #00af00\">20</span>, <span style=\"color: #00af00; text-decoration-color: #00af00\">72</span>)    │          <span style=\"color: #00af00; text-decoration-color: #00af00\">0</span> │ concat_features[<span style=\"color: #00af00; text-decoration-color: #00af00\">…</span> │\n",
       "│ (<span style=\"color: #0087ff; text-decoration-color: #0087ff\">Dropout</span>)           │                   │            │                   │\n",
       "├─────────────────────┼───────────────────┼────────────┼───────────────────┤\n",
       "│ lstm_layer (<span style=\"color: #0087ff; text-decoration-color: #0087ff\">LSTM</span>)   │ (<span style=\"color: #00d7ff; text-decoration-color: #00d7ff\">None</span>, <span style=\"color: #00af00; text-decoration-color: #00af00\">128</span>)       │    <span style=\"color: #00af00; text-decoration-color: #00af00\">102,912</span> │ dropout_features… │\n",
       "├─────────────────────┼───────────────────┼────────────┼───────────────────┤\n",
       "│ dropout_lstm        │ (<span style=\"color: #00d7ff; text-decoration-color: #00d7ff\">None</span>, <span style=\"color: #00af00; text-decoration-color: #00af00\">128</span>)       │          <span style=\"color: #00af00; text-decoration-color: #00af00\">0</span> │ lstm_layer[<span style=\"color: #00af00; text-decoration-color: #00af00\">0</span>][<span style=\"color: #00af00; text-decoration-color: #00af00\">0</span>]  │\n",
       "│ (<span style=\"color: #0087ff; text-decoration-color: #0087ff\">Dropout</span>)           │                   │            │                   │\n",
       "├─────────────────────┼───────────────────┼────────────┼───────────────────┤\n",
       "│ output_rating       │ (<span style=\"color: #00d7ff; text-decoration-color: #00d7ff\">None</span>, <span style=\"color: #00af00; text-decoration-color: #00af00\">1</span>)         │        <span style=\"color: #00af00; text-decoration-color: #00af00\">129</span> │ dropout_lstm[<span style=\"color: #00af00; text-decoration-color: #00af00\">0</span>][<span style=\"color: #00af00; text-decoration-color: #00af00\">…</span> │\n",
       "│ (<span style=\"color: #0087ff; text-decoration-color: #0087ff\">Dense</span>)             │                   │            │                   │\n",
       "└─────────────────────┴───────────────────┴────────────┴───────────────────┘\n",
       "</pre>\n"
      ],
      "text/plain": [
       "┏━━━━━━━━━━━━━━━━━━━━━┳━━━━━━━━━━━━━━━━━━━┳━━━━━━━━━━━━┳━━━━━━━━━━━━━━━━━━━┓\n",
       "┃\u001b[1m \u001b[0m\u001b[1mLayer (type)       \u001b[0m\u001b[1m \u001b[0m┃\u001b[1m \u001b[0m\u001b[1mOutput Shape     \u001b[0m\u001b[1m \u001b[0m┃\u001b[1m \u001b[0m\u001b[1m   Param #\u001b[0m\u001b[1m \u001b[0m┃\u001b[1m \u001b[0m\u001b[1mConnected to     \u001b[0m\u001b[1m \u001b[0m┃\n",
       "┡━━━━━━━━━━━━━━━━━━━━━╇━━━━━━━━━━━━━━━━━━━╇━━━━━━━━━━━━╇━━━━━━━━━━━━━━━━━━━┩\n",
       "│ input_movie_indices │ (\u001b[38;5;45mNone\u001b[0m, \u001b[38;5;34m20\u001b[0m)        │          \u001b[38;5;34m0\u001b[0m │ -                 │\n",
       "│ (\u001b[38;5;33mInputLayer\u001b[0m)        │                   │            │                   │\n",
       "├─────────────────────┼───────────────────┼────────────┼───────────────────┤\n",
       "│ input_rating_values │ (\u001b[38;5;45mNone\u001b[0m, \u001b[38;5;34m20\u001b[0m)        │          \u001b[38;5;34m0\u001b[0m │ -                 │\n",
       "│ (\u001b[38;5;33mInputLayer\u001b[0m)        │                   │            │                   │\n",
       "├─────────────────────┼───────────────────┼────────────┼───────────────────┤\n",
       "│ movie_embedding     │ (\u001b[38;5;45mNone\u001b[0m, \u001b[38;5;34m20\u001b[0m, \u001b[38;5;34m64\u001b[0m)    │     \u001b[38;5;34m57,664\u001b[0m │ input_movie_indi… │\n",
       "│ (\u001b[38;5;33mEmbedding\u001b[0m)         │                   │            │                   │\n",
       "├─────────────────────┼───────────────────┼────────────┼───────────────────┤\n",
       "│ rating_embedding    │ (\u001b[38;5;45mNone\u001b[0m, \u001b[38;5;34m20\u001b[0m, \u001b[38;5;34m8\u001b[0m)     │         \u001b[38;5;34m48\u001b[0m │ input_rating_val… │\n",
       "│ (\u001b[38;5;33mEmbedding\u001b[0m)         │                   │            │                   │\n",
       "├─────────────────────┼───────────────────┼────────────┼───────────────────┤\n",
       "│ concat_features     │ (\u001b[38;5;45mNone\u001b[0m, \u001b[38;5;34m20\u001b[0m, \u001b[38;5;34m72\u001b[0m)    │          \u001b[38;5;34m0\u001b[0m │ movie_embedding[\u001b[38;5;34m…\u001b[0m │\n",
       "│ (\u001b[38;5;33mConcatenate\u001b[0m)       │                   │            │ rating_embedding… │\n",
       "├─────────────────────┼───────────────────┼────────────┼───────────────────┤\n",
       "│ dropout_features    │ (\u001b[38;5;45mNone\u001b[0m, \u001b[38;5;34m20\u001b[0m, \u001b[38;5;34m72\u001b[0m)    │          \u001b[38;5;34m0\u001b[0m │ concat_features[\u001b[38;5;34m…\u001b[0m │\n",
       "│ (\u001b[38;5;33mDropout\u001b[0m)           │                   │            │                   │\n",
       "├─────────────────────┼───────────────────┼────────────┼───────────────────┤\n",
       "│ lstm_layer (\u001b[38;5;33mLSTM\u001b[0m)   │ (\u001b[38;5;45mNone\u001b[0m, \u001b[38;5;34m128\u001b[0m)       │    \u001b[38;5;34m102,912\u001b[0m │ dropout_features… │\n",
       "├─────────────────────┼───────────────────┼────────────┼───────────────────┤\n",
       "│ dropout_lstm        │ (\u001b[38;5;45mNone\u001b[0m, \u001b[38;5;34m128\u001b[0m)       │          \u001b[38;5;34m0\u001b[0m │ lstm_layer[\u001b[38;5;34m0\u001b[0m][\u001b[38;5;34m0\u001b[0m]  │\n",
       "│ (\u001b[38;5;33mDropout\u001b[0m)           │                   │            │                   │\n",
       "├─────────────────────┼───────────────────┼────────────┼───────────────────┤\n",
       "│ output_rating       │ (\u001b[38;5;45mNone\u001b[0m, \u001b[38;5;34m1\u001b[0m)         │        \u001b[38;5;34m129\u001b[0m │ dropout_lstm[\u001b[38;5;34m0\u001b[0m][\u001b[38;5;34m…\u001b[0m │\n",
       "│ (\u001b[38;5;33mDense\u001b[0m)             │                   │            │                   │\n",
       "└─────────────────────┴───────────────────┴────────────┴───────────────────┘\n"
      ]
     },
     "metadata": {},
     "output_type": "display_data"
    },
    {
     "data": {
      "text/html": [
       "<pre style=\"white-space:pre;overflow-x:auto;line-height:normal;font-family:Menlo,'DejaVu Sans Mono',consolas,'Courier New',monospace\"><span style=\"font-weight: bold\"> Total params: </span><span style=\"color: #00af00; text-decoration-color: #00af00\">160,753</span> (627.94 KB)\n",
       "</pre>\n"
      ],
      "text/plain": [
       "\u001b[1m Total params: \u001b[0m\u001b[38;5;34m160,753\u001b[0m (627.94 KB)\n"
      ]
     },
     "metadata": {},
     "output_type": "display_data"
    },
    {
     "data": {
      "text/html": [
       "<pre style=\"white-space:pre;overflow-x:auto;line-height:normal;font-family:Menlo,'DejaVu Sans Mono',consolas,'Courier New',monospace\"><span style=\"font-weight: bold\"> Trainable params: </span><span style=\"color: #00af00; text-decoration-color: #00af00\">160,753</span> (627.94 KB)\n",
       "</pre>\n"
      ],
      "text/plain": [
       "\u001b[1m Trainable params: \u001b[0m\u001b[38;5;34m160,753\u001b[0m (627.94 KB)\n"
      ]
     },
     "metadata": {},
     "output_type": "display_data"
    },
    {
     "data": {
      "text/html": [
       "<pre style=\"white-space:pre;overflow-x:auto;line-height:normal;font-family:Menlo,'DejaVu Sans Mono',consolas,'Courier New',monospace\"><span style=\"font-weight: bold\"> Non-trainable params: </span><span style=\"color: #00af00; text-decoration-color: #00af00\">0</span> (0.00 B)\n",
       "</pre>\n"
      ],
      "text/plain": [
       "\u001b[1m Non-trainable params: \u001b[0m\u001b[38;5;34m0\u001b[0m (0.00 B)\n"
      ]
     },
     "metadata": {},
     "output_type": "display_data"
    }
   ],
   "source": [
    "import tensorflow as tf\n",
    "from tensorflow.keras.models import Model\n",
    "from tensorflow.keras.layers import Input, Embedding, LSTM, Dense, Concatenate, Dropout\n",
    "from tensorflow.keras.metrics import RootMeanSquaredError\n",
    "import time\n",
    "\n",
    "# --- Vérification des variables nécessaires ---\n",
    "# (n_movies et max_len doivent exister depuis les étapes précédentes)\n",
    "if 'n_movies' not in locals() or 'max_len' not in locals():\n",
    "    print(\"ERREUR: Variables 'n_movies' ou 'max_len' non définies.\")\n",
    "    # Il faudrait exécuter les étapes de mapping/séquençage avant\n",
    "    # exit()\n",
    "# (strategy devrait aussi exister, au moins la stratégie par défaut)\n",
    "if 'strategy' not in locals():\n",
    "    print(\"INFO: Stratégie non définie, utilisation de la stratégie par défaut.\")\n",
    "    strategy = tf.distribute.get_strategy()\n",
    "\n",
    "# --- Étape 7: Définition Architecture Modèle RNN ---\n",
    "print(\"\\n--- Étape 7: Définition Architecture Modèle RNN ---\")\n",
    "start_time = time.time()\n",
    "\n",
    "# Hyperparamètres (ajustables pour l'optimisation)\n",
    "embedding_dim_movie = 64  # Taille vecteur film\n",
    "embedding_dim_rating = 8   # Taille vecteur note\n",
    "lstm_units = 128           # Taille mémoire LSTM\n",
    "dropout_rate = 0.3         # Taux Dropout\n",
    "\n",
    "# Définition dans le scope de la stratégie (important pour TPU/multi-GPU)\n",
    "with strategy.scope():\n",
    "    # 1. Définir les entrées (forme attendue)\n",
    "    input_movies = Input(shape=(max_len,), name='input_movie_indices')\n",
    "    input_ratings = Input(shape=(max_len,), name='input_rating_values')\n",
    "\n",
    "    # 2. Couches d'Embedding\n",
    "    #    input_dim = nb d'éléments uniques + 1 (pour padding 0 ou n_movies)\n",
    "    #    output_dim = taille du vecteur appris\n",
    "    emb_layer_movie = Embedding(input_dim=n_movies + 1, output_dim=embedding_dim_movie, name='movie_embedding')\n",
    "    emb_layer_rating = Embedding(input_dim=6, output_dim=embedding_dim_rating, name='rating_embedding') # 0-5 -> 6 valeurs\n",
    "\n",
    "    # Appliquer les embeddings aux entrées\n",
    "    embedded_movies = emb_layer_movie(input_movies)\n",
    "    embedded_ratings = emb_layer_rating(input_ratings)\n",
    "\n",
    "    # 3. Combiner les features (embeddings)\n",
    "    concatenated_features = Concatenate(name='concat_features')([embedded_movies, embedded_ratings])\n",
    "    dropout_features = Dropout(dropout_rate, name='dropout_features')(concatenated_features)\n",
    "\n",
    "    # 4. Couche LSTM\n",
    "    lstm_output = LSTM(lstm_units, name='lstm_layer')(dropout_features)\n",
    "    dropout_lstm = Dropout(dropout_rate, name='dropout_lstm')(lstm_output)\n",
    "\n",
    "    # 5. Couche de Sortie (prédiction)\n",
    "    output = Dense(1, activation='linear', name='output_rating')(dropout_lstm)\n",
    "\n",
    "    # 6. Assembler le modèle\n",
    "    model = Model(inputs=[input_movies, input_ratings], outputs=output, name='Simple_RNN_Recommender')\n",
    "\n",
    "    # 7. Compiler le modèle (définir comment il apprend)\n",
    "    optimizer = tf.keras.optimizers.Adam(learning_rate=0.001) # Optimiseur\n",
    "    loss = 'mean_squared_error'                             # Fonction de perte (MSE)\n",
    "    metrics = [RootMeanSquaredError(name='rmse')]           # Métrique à suivre (RMSE)\n",
    "    model.compile(optimizer=optimizer, loss=loss, metrics=metrics)\n",
    "\n",
    "print(f\"Définition et compilation terminées en {time.time() - start_time:.2f} sec.\")\n",
    "\n",
    "# Afficher l'architecture du modèle créé\n",
    "print(\"\\nRésumé du Modèle:\")\n",
    "model.summary()"
   ]
  },
  {
   "cell_type": "code",
   "execution_count": 18,
   "id": "5a248edd",
   "metadata": {},
   "outputs": [
    {
     "name": "stdout",
     "output_type": "stream",
     "text": [
      "\n",
      "--- Étape 8: Lancement de l'Entraînement ---\n",
      "Paramètres: EPOCHS=15, BATCH_SIZE=1024\n",
      "Epoch 1/15\n"
     ]
    },
    {
     "name": "stderr",
     "output_type": "stream",
     "text": [
      "2025-05-05 10:34:01.658466: I tensorflow/core/grappler/optimizers/custom_graph_optimizer_registry.cc:117] Plugin optimizer for device_type GPU is enabled.\n",
      "2025-05-05 10:34:01.663103: E tensorflow/core/grappler/optimizers/meta_optimizer.cc:961] PluggableGraphOptimizer failed: INVALID_ARGUMENT: Failed to deserialize the `graph_buf`.\n"
     ]
    },
    {
     "name": "stdout",
     "output_type": "stream",
     "text": [
      "\u001b[1m196/196\u001b[0m \u001b[32m━━━━━━━━━━━━━━━━━━━━\u001b[0m\u001b[37m\u001b[0m \u001b[1m12s\u001b[0m 40ms/step - loss: 3.3276 - rmse: 1.7564 - val_loss: 1.2862 - val_rmse: 1.1341 - learning_rate: 0.0010\n",
      "Epoch 2/15\n",
      "\u001b[1m196/196\u001b[0m \u001b[32m━━━━━━━━━━━━━━━━━━━━\u001b[0m\u001b[37m\u001b[0m \u001b[1m7s\u001b[0m 33ms/step - loss: 1.3567 - rmse: 1.1648 - val_loss: 1.2716 - val_rmse: 1.1276 - learning_rate: 0.0010\n",
      "Epoch 3/15\n",
      "\u001b[1m196/196\u001b[0m \u001b[32m━━━━━━━━━━━━━━━━━━━━\u001b[0m\u001b[37m\u001b[0m \u001b[1m7s\u001b[0m 35ms/step - loss: 1.3289 - rmse: 1.1528 - val_loss: 1.2679 - val_rmse: 1.1260 - learning_rate: 0.0010\n",
      "Epoch 4/15\n",
      "\u001b[1m196/196\u001b[0m \u001b[32m━━━━━━━━━━━━━━━━━━━━\u001b[0m\u001b[37m\u001b[0m \u001b[1m7s\u001b[0m 35ms/step - loss: 1.3151 - rmse: 1.1468 - val_loss: 1.2640 - val_rmse: 1.1243 - learning_rate: 0.0010\n",
      "Epoch 5/15\n",
      "\u001b[1m196/196\u001b[0m \u001b[32m━━━━━━━━━━━━━━━━━━━━\u001b[0m\u001b[37m\u001b[0m \u001b[1m7s\u001b[0m 33ms/step - loss: 1.3070 - rmse: 1.1432 - val_loss: 1.2557 - val_rmse: 1.1206 - learning_rate: 0.0010\n",
      "Epoch 6/15\n",
      "\u001b[1m196/196\u001b[0m \u001b[32m━━━━━━━━━━━━━━━━━━━━\u001b[0m\u001b[37m\u001b[0m \u001b[1m7s\u001b[0m 34ms/step - loss: 1.2846 - rmse: 1.1334 - val_loss: 1.2414 - val_rmse: 1.1142 - learning_rate: 0.0010\n",
      "Epoch 7/15\n",
      "\u001b[1m196/196\u001b[0m \u001b[32m━━━━━━━━━━━━━━━━━━━━\u001b[0m\u001b[37m\u001b[0m \u001b[1m7s\u001b[0m 36ms/step - loss: 1.2681 - rmse: 1.1261 - val_loss: 1.2314 - val_rmse: 1.1097 - learning_rate: 0.0010\n",
      "Epoch 8/15\n",
      "\u001b[1m196/196\u001b[0m \u001b[32m━━━━━━━━━━━━━━━━━━━━\u001b[0m\u001b[37m\u001b[0m \u001b[1m7s\u001b[0m 35ms/step - loss: 1.2709 - rmse: 1.1273 - val_loss: 1.2290 - val_rmse: 1.1086 - learning_rate: 0.0010\n",
      "Epoch 9/15\n",
      "\u001b[1m196/196\u001b[0m \u001b[32m━━━━━━━━━━━━━━━━━━━━\u001b[0m\u001b[37m\u001b[0m \u001b[1m7s\u001b[0m 35ms/step - loss: 1.2613 - rmse: 1.1231 - val_loss: 1.2284 - val_rmse: 1.1083 - learning_rate: 0.0010\n",
      "Epoch 10/15\n",
      "\u001b[1m196/196\u001b[0m \u001b[32m━━━━━━━━━━━━━━━━━━━━\u001b[0m\u001b[37m\u001b[0m \u001b[1m7s\u001b[0m 34ms/step - loss: 1.2467 - rmse: 1.1166 - val_loss: 1.2273 - val_rmse: 1.1078 - learning_rate: 0.0010\n",
      "Epoch 11/15\n",
      "\u001b[1m196/196\u001b[0m \u001b[32m━━━━━━━━━━━━━━━━━━━━\u001b[0m\u001b[37m\u001b[0m \u001b[1m7s\u001b[0m 37ms/step - loss: 1.2439 - rmse: 1.1153 - val_loss: 1.2242 - val_rmse: 1.1065 - learning_rate: 0.0010\n",
      "Epoch 12/15\n",
      "\u001b[1m196/196\u001b[0m \u001b[32m━━━━━━━━━━━━━━━━━━━━\u001b[0m\u001b[37m\u001b[0m \u001b[1m7s\u001b[0m 35ms/step - loss: 1.2472 - rmse: 1.1168 - val_loss: 1.2231 - val_rmse: 1.1059 - learning_rate: 0.0010\n",
      "Epoch 13/15\n",
      "\u001b[1m195/196\u001b[0m \u001b[32m━━━━━━━━━━━━━━━━━━━\u001b[0m\u001b[37m━\u001b[0m \u001b[1m0s\u001b[0m 31ms/step - loss: 1.2396 - rmse: 1.1134\n",
      "Epoch 13: ReduceLROnPlateau reducing learning rate to 0.00020000000949949026.\n",
      "\u001b[1m196/196\u001b[0m \u001b[32m━━━━━━━━━━━━━━━━━━━━\u001b[0m\u001b[37m\u001b[0m \u001b[1m7s\u001b[0m 35ms/step - loss: 1.2396 - rmse: 1.1134 - val_loss: 1.2261 - val_rmse: 1.1073 - learning_rate: 0.0010\n",
      "Epoch 14/15\n",
      "\u001b[1m195/196\u001b[0m \u001b[32m━━━━━━━━━━━━━━━━━━━\u001b[0m\u001b[37m━\u001b[0m \u001b[1m0s\u001b[0m 32ms/step - loss: 1.2256 - rmse: 1.1071\n",
      "Epoch 14: ReduceLROnPlateau reducing learning rate to 4.0000001899898055e-05.\n",
      "\u001b[1m196/196\u001b[0m \u001b[32m━━━━━━━━━━━━━━━━━━━━\u001b[0m\u001b[37m\u001b[0m \u001b[1m7s\u001b[0m 36ms/step - loss: 1.2257 - rmse: 1.1071 - val_loss: 1.2247 - val_rmse: 1.1067 - learning_rate: 2.0000e-04\n",
      "Epoch 15/15\n",
      "\u001b[1m195/196\u001b[0m \u001b[32m━━━━━━━━━━━━━━━━━━━\u001b[0m\u001b[37m━\u001b[0m \u001b[1m0s\u001b[0m 32ms/step - loss: 1.2310 - rmse: 1.1095\n",
      "Epoch 15: ReduceLROnPlateau reducing learning rate to 8.000000525498762e-06.\n",
      "\u001b[1m196/196\u001b[0m \u001b[32m━━━━━━━━━━━━━━━━━━━━\u001b[0m\u001b[37m\u001b[0m \u001b[1m7s\u001b[0m 35ms/step - loss: 1.2310 - rmse: 1.1095 - val_loss: 1.2248 - val_rmse: 1.1067 - learning_rate: 4.0000e-05\n",
      "Epoch 15: early stopping\n",
      "Restoring model weights from the end of the best epoch: 12.\n",
      "\n",
      "--- Entraînement Terminé ---\n",
      "Temps total: 107.59 sec.\n",
      "\n",
      "Meilleur RMSE obtenu sur la validation durant l'entraînement: 1.1059\n"
     ]
    }
   ],
   "source": [
    "from tensorflow.keras.callbacks import ModelCheckpoint, EarlyStopping, ReduceLROnPlateau\n",
    "import time\n",
    "import os\n",
    "\n",
    "# --- Vérification que le modèle et les données train/val existent ---\n",
    "if ('model' not in locals() or\n",
    "    'X_train_movies' not in locals() or 'X_train_ratings' not in locals() or 'y_train' not in locals() or\n",
    "    'X_val_movies' not in locals() or 'X_val_ratings' not in locals() or 'y_val' not in locals()):\n",
    "    print(\"ERREUR: Modèle ou données train/val manquants.\")\n",
    "    # Il faudrait exécuter les étapes précédentes\n",
    "    # exit()\n",
    "\n",
    "# --- Étape 8: Entraînement Modèle RNN ---\n",
    "print(\"\\n--- Étape 8: Lancement de l'Entraînement ---\")\n",
    "\n",
    "# Paramètres d'entraînement\n",
    "EPOCHS = 15       # Nombre max d'époques (EarlyStopping peut arrêter avant)\n",
    "# Taille de batch: Puisque le dataset est peut-être plus petit,\n",
    "# on peut essayer une taille raisonnable comme 512 ou 1024.\n",
    "BATCH_SIZE = 1024\n",
    "\n",
    "# Callbacks (sauvegarde, arrêt anticipé, réduction learning rate)\n",
    "checkpoint_dir = './rnn_model_checkpoints_simple' # Dossier pour sauvegarde\n",
    "if not os.path.exists(checkpoint_dir): os.makedirs(checkpoint_dir)\n",
    "# Nom du fichier où sauvegarder les meilleurs poids\n",
    "checkpoint_filepath = os.path.join(checkpoint_dir,'best_simple_model.weights.h5')\n",
    "\n",
    "model_checkpoint = ModelCheckpoint(filepath=checkpoint_filepath, save_weights_only=True,\n",
    "                                 monitor='val_rmse', mode='min', save_best_only=True)\n",
    "early_stopping = EarlyStopping(monitor='val_rmse', patience=3, mode='min', # Arrêter après 3 époques sans amélioration du val_rmse\n",
    "                             restore_best_weights=True, verbose=1)         # Revenir aux meilleurs poids trouvés\n",
    "reduce_lr = ReduceLROnPlateau(monitor='val_rmse', factor=0.2, patience=1,  # Réduire LR si val_rmse stagne pendant 1 époque\n",
    "                            min_lr=1e-6, mode='min', verbose=1)\n",
    "callbacks_list = [model_checkpoint, early_stopping, reduce_lr]\n",
    "\n",
    "print(f\"Paramètres: EPOCHS={EPOCHS}, BATCH_SIZE={BATCH_SIZE}\")\n",
    "start_time = time.time()\n",
    "\n",
    "# Lancer l'entraînement !\n",
    "history = model.fit(\n",
    "    x=[X_train_movies, X_train_ratings], # Entrées d'entraînement\n",
    "    y=y_train,                           # Sortie cible\n",
    "    batch_size=BATCH_SIZE,\n",
    "    epochs=EPOCHS,\n",
    "    validation_data=([X_val_movies, X_val_ratings], y_val), # Données pour évaluer après chaque époque\n",
    "    callbacks=callbacks_list,            # Appliquer les callbacks\n",
    "    verbose=1                            # Afficher la progression\n",
    ")\n",
    "\n",
    "print(f\"\\n--- Entraînement Terminé ---\")\n",
    "print(f\"Temps total: {time.time() - start_time:.2f} sec.\")\n",
    "\n",
    "# Afficher le meilleur RMSE de validation obtenu pendant l'entraînement\n",
    "if 'val_rmse' in history.history:\n",
    "    best_val_rmse = min(history.history['val_rmse'])\n",
    "    print(f\"\\nMeilleur RMSE obtenu sur la validation durant l'entraînement: {best_val_rmse:.4f}\")"
   ]
  },
  {
   "cell_type": "code",
   "execution_count": 19,
   "id": "9c0440ec",
   "metadata": {},
   "outputs": [],
   "source": [
    "losse = pd.DataFrame(model.history.history)"
   ]
  },
  {
   "cell_type": "code",
   "execution_count": 20,
   "id": "f3f2ec17",
   "metadata": {},
   "outputs": [
    {
     "data": {
      "text/plain": [
       "<Axes: >"
      ]
     },
     "execution_count": 20,
     "metadata": {},
     "output_type": "execute_result"
    },
    {
     "data": {
      "image/png": "[encoded data removed]",
      "text/plain": [
       "<Figure size 640x480 with 1 Axes>"
      ]
     },
     "metadata": {},
     "output_type": "display_data"
    }
   ],
   "source": [
    "losse.plot()"
   ]
  },
  {
   "cell_type": "markdown",
   "id": "2451feca",
   "metadata": {},
   "source": [
    "# Évaluation Finale (sur Validation Set)"
   ]
  },
  {
   "cell_type": "code",
   "execution_count": 21,
   "id": "3518a9de",
   "metadata": {},
   "outputs": [
    {
     "name": "stdout",
     "output_type": "stream",
     "text": [
      "\n",
      "--- Étape 9: Évaluation Finale sur Validation Set ---\n",
      "Calcul du Loss et RMSE finaux sur validation...\n",
      "Évaluation terminée en 0.69 sec.\n",
      "\n",
      "Résultats `model.evaluate()`:\n",
      "  - loss (validation): 1.2231\n",
      "  - compile_metrics (validation): 1.1059\n",
      "\n",
      "Quelques prédictions vs vraies notes (validation)...\n"
     ]
    },
    {
     "name": "stderr",
     "output_type": "stream",
     "text": [
      "2025-05-05 10:35:49.840514: E tensorflow/core/grappler/optimizers/meta_optimizer.cc:961] PluggableGraphOptimizer failed: INVALID_ARGUMENT: Failed to deserialize the `graph_buf`.\n"
     ]
    },
    {
     "name": "stdout",
     "output_type": "stream",
     "text": [
      "\u001b[1m1/1\u001b[0m \u001b[32m━━━━━━━━━━━━━━━━━━━━\u001b[0m\u001b[37m\u001b[0m \u001b[1m0s\u001b[0m 255ms/step\n",
      "\n",
      "  Vrai | Prédit | Erreur\n",
      "--------------------------\n",
      "   4   |  3.41  | +0.59\n",
      "   4   |  4.11  | -0.11\n",
      "   2   |  2.91  | -0.91\n",
      "   4   |  3.43  | +0.57\n",
      "   5   |  3.58  | +1.42\n",
      "   4   |  3.56  | +0.44\n",
      "   2   |  3.13  | -1.13\n",
      "   4   |  3.22  | +0.78\n",
      "   1   |  3.27  | -2.27\n",
      "   2   |  3.41  | -1.41\n",
      "   3   |  3.36  | -0.36\n",
      "   1   |  1.65  | -0.65\n",
      "   4   |  3.88  | +0.12\n",
      "   4   |  3.54  | +0.46\n",
      "   3   |  2.01  | +0.99\n",
      "--------------------------\n",
      "MAE sur ces 15 exemples: 0.82\n",
      "\n",
      "--- Fin de l'évaluation pour la Phase 1 (RNN simple) ---\n"
     ]
    }
   ],
   "source": [
    "import numpy as np\n",
    "import pandas as pd # Juste au cas où on voudrait l'utiliser\n",
    "import time\n",
    "\n",
    "# --- Assurez-vous que 'model' (entraîné) et les données de validation existent ---\n",
    "if ('model' not in locals() or\n",
    "    'X_val_movies' not in locals() or 'X_val_ratings' not in locals() or 'y_val' not in locals()):\n",
    "    print(\"ERREUR: Modèle entraîné ou données de validation manquants.\")\n",
    "    # Optionnel: Recharger les meilleurs poids si nécessaire\n",
    "    # try:\n",
    "    #     checkpoint_filepath = './rnn_simple_checkpoints/best_simple_model.weights.h5' # Adaptez\n",
    "    #     model.load_weights(checkpoint_filepath)\n",
    "    #     print(f\"Poids du meilleur modèle rechargés depuis {checkpoint_filepath}\")\n",
    "    # except Exception as e:\n",
    "    #     print(f\"WARN: Impossible de charger les poids: {e}\")\n",
    "    # exit()\n",
    "\n",
    "# --- Étape 9: Évaluation Finale sur Validation Set ---\n",
    "print(\"\\n--- Étape 9: Évaluation Finale sur Validation Set ---\")\n",
    "start_time = time.time()\n",
    "\n",
    "# Taille de batch pour évaluer (peut être grande si assez de mémoire)\n",
    "eval_batch_size = locals().get('BATCH_SIZE', 1024)\n",
    "\n",
    "# 1. Évaluation globale (calcule loss et métriques compilées comme RMSE)\n",
    "print(\"Calcul du Loss et RMSE finaux sur validation...\")\n",
    "results = model.evaluate(\n",
    "    x=[X_val_movies, X_val_ratings],\n",
    "    y=y_val,\n",
    "    batch_size=eval_batch_size,\n",
    "    verbose=0 # 0 = silencieux, 1 = barre de progression\n",
    ")\n",
    "\n",
    "print(f\"Évaluation terminée en {time.time() - start_time:.2f} sec.\")\n",
    "\n",
    "# Affichage des résultats de evaluate()\n",
    "print(\"\\nRésultats `model.evaluate()`:\")\n",
    "try:\n",
    "    # Utilise les noms des métriques stockés dans le modèle\n",
    "    for name, value in zip(model.metrics_names, results):\n",
    "        print(f\"  - {name} (validation): {value:.4f}\")\n",
    "except AttributeError: # Si .metrics_names n'existe pas (rare)\n",
    "    print(f\"  - Loss (MSE) (validation): {results[0]:.4f}\")\n",
    "    if len(results)>1: print(f\"  - RMSE (validation): {results[1]:.4f}\")\n",
    "\n",
    "\n",
    "# 2. Regarder quelques prédictions\n",
    "print(\"\\nQuelques prédictions vs vraies notes (validation)...\")\n",
    "n_show = 15 # Nombre d'exemples à afficher\n",
    "if len(X_val_movies) >= n_show:\n",
    "    preds = model.predict(\n",
    "        [X_val_movies[:n_show], X_val_ratings[:n_show]],\n",
    "        batch_size=eval_batch_size\n",
    "    )\n",
    "\n",
    "    print(\"\\n  Vrai | Prédit | Erreur\")\n",
    "    print(\"--------------------------\")\n",
    "    mae_sum = 0\n",
    "    for i in range(n_show):\n",
    "        true = y_val[i]\n",
    "        pred = preds[i][0] # La prédiction est dans un tableau de shape (1,)\n",
    "        print(f\"   {true}   |  {pred:.2f}  | {true - pred:+.2f}\")\n",
    "        mae_sum += abs(true - pred)\n",
    "    print(\"--------------------------\")\n",
    "    print(f\"MAE sur ces {n_show} exemples: {mae_sum/n_show:.2f}\") # Erreur Absolue Moyenne\n",
    "else:\n",
    "    print(\"Pas assez de données de validation pour montrer des exemples.\")\n",
    "\n",
    "print(\"\\n--- Fin de l'évaluation pour la Phase 1 (RNN simple) ---\")"
   ]
  },
  {
   "cell_type": "code",
   "execution_count": 38,
   "id": "c939fe21",
   "metadata": {},
   "outputs": [],
   "source": [
    "\n",
    "df_aug = pd.read_csv('data/train_data_enrichi.csv',\n",
    "        sep=';' ,\n",
    "        on_bad_lines='skip',\n",
    "        parse_dates=['Date'],)\n",
    "\n",
    "\n"
   ]
  },
  {
   "cell_type": "code",
   "execution_count": 40,
   "id": "bb23fb96",
   "metadata": {},
   "outputs": [
    {
     "name": "stdout",
     "output_type": "stream",
     "text": [
      "<class 'pandas.core.frame.DataFrame'>\n",
      "RangeIndex: 252498 entries, 0 to 252497\n",
      "Data columns (total 13 columns):\n",
      " #   Column          Non-Null Count   Dtype         \n",
      "---  ------          --------------   -----         \n",
      " 0   MovieID         252498 non-null  int64         \n",
      " 1   CustomerID      252498 non-null  int64         \n",
      " 2   rating          252498 non-null  int64         \n",
      " 3   Date            252498 non-null  datetime64[ns]\n",
      " 4   Year            252498 non-null  int64         \n",
      " 5   Name            252498 non-null  object        \n",
      " 6   Genre           251706 non-null  object        \n",
      " 7   Director        251029 non-null  object        \n",
      " 8   Country         251706 non-null  object        \n",
      " 9   Language        251706 non-null  object        \n",
      " 10  Gender          250768 non-null  object        \n",
      " 11  Liked_Genre     251706 non-null  object        \n",
      " 12  Disliked_Genre  251706 non-null  object        \n",
      "dtypes: datetime64[ns](1), int64(4), object(8)\n",
      "memory usage: 25.0+ MB\n"
     ]
    }
   ],
   "source": [
    "df_aug.info()"
   ]
  },
  {
   "cell_type": "code",
   "execution_count": 41,
   "id": "39d98387",
   "metadata": {},
   "outputs": [
    {
     "data": {
      "text/plain": [
       "(252498, 13)"
      ]
     },
     "execution_count": 41,
     "metadata": {},
     "output_type": "execute_result"
    }
   ],
   "source": [
    "df_aug.shape"
   ]
  },
  {
   "cell_type": "code",
   "execution_count": 42,
   "id": "ccb5d7c4",
   "metadata": {},
   "outputs": [
    {
     "data": {
      "text/html": [
       "<div>\n",
       "<style scoped>\n",
       "    .dataframe tbody tr th:only-of-type {\n",
       "        vertical-align: middle;\n",
       "    }\n",
       "\n",
       "    .dataframe tbody tr th {\n",
       "        vertical-align: top;\n",
       "    }\n",
       "\n",
       "    .dataframe thead th {\n",
       "        text-align: right;\n",
       "    }\n",
       "</style>\n",
       "<table border=\"1\" class=\"dataframe\">\n",
       "  <thead>\n",
       "    <tr style=\"text-align: right;\">\n",
       "      <th></th>\n",
       "      <th>MovieID</th>\n",
       "      <th>CustomerID</th>\n",
       "      <th>rating</th>\n",
       "      <th>Date</th>\n",
       "      <th>Year</th>\n",
       "      <th>Name</th>\n",
       "      <th>Genre</th>\n",
       "      <th>Director</th>\n",
       "      <th>Country</th>\n",
       "      <th>Language</th>\n",
       "      <th>Gender</th>\n",
       "      <th>Liked_Genre</th>\n",
       "      <th>Disliked_Genre</th>\n",
       "    </tr>\n",
       "  </thead>\n",
       "  <tbody>\n",
       "    <tr>\n",
       "      <th>0</th>\n",
       "      <td>4136</td>\n",
       "      <td>3595</td>\n",
       "      <td>1</td>\n",
       "      <td>2004-02-06</td>\n",
       "      <td>1993</td>\n",
       "      <td>Teenage Mutant Ninja Turtles III</td>\n",
       "      <td>Action</td>\n",
       "      <td>Stuart Gillard</td>\n",
       "      <td>États-Unis</td>\n",
       "      <td>Anglais</td>\n",
       "      <td>male</td>\n",
       "      <td>['Action', 'Aventure', 'Science-fiction']</td>\n",
       "      <td>['Romance', 'Drame']</td>\n",
       "    </tr>\n",
       "    <tr>\n",
       "      <th>1</th>\n",
       "      <td>1861</td>\n",
       "      <td>3595</td>\n",
       "      <td>1</td>\n",
       "      <td>2004-02-06</td>\n",
       "      <td>2001</td>\n",
       "      <td>Evolution</td>\n",
       "      <td>Science-fiction</td>\n",
       "      <td>Ivan Reitman</td>\n",
       "      <td>États-Unis</td>\n",
       "      <td>Anglais</td>\n",
       "      <td>male</td>\n",
       "      <td>['Science-fiction', 'Comédie']</td>\n",
       "      <td>['Romance', 'Drame']</td>\n",
       "    </tr>\n",
       "    <tr>\n",
       "      <th>2</th>\n",
       "      <td>3638</td>\n",
       "      <td>3595</td>\n",
       "      <td>1</td>\n",
       "      <td>2004-02-28</td>\n",
       "      <td>2003</td>\n",
       "      <td>Bad Boys II</td>\n",
       "      <td>Action</td>\n",
       "      <td>Michael Bay</td>\n",
       "      <td>États-Unis</td>\n",
       "      <td>Anglais</td>\n",
       "      <td>male</td>\n",
       "      <td>['Action', 'Policier', 'Comédie']</td>\n",
       "      <td>['Romance', 'Drame']</td>\n",
       "    </tr>\n",
       "    <tr>\n",
       "      <th>3</th>\n",
       "      <td>2391</td>\n",
       "      <td>3595</td>\n",
       "      <td>1</td>\n",
       "      <td>2004-09-12</td>\n",
       "      <td>2004</td>\n",
       "      <td>Along Came Polly</td>\n",
       "      <td>Romantic Comedy</td>\n",
       "      <td>John Hamburg</td>\n",
       "      <td>USA</td>\n",
       "      <td>English</td>\n",
       "      <td>male</td>\n",
       "      <td>['Comedy', 'Romance']</td>\n",
       "      <td>['Horror', 'Science Fiction']</td>\n",
       "    </tr>\n",
       "    <tr>\n",
       "      <th>4</th>\n",
       "      <td>1289</td>\n",
       "      <td>3595</td>\n",
       "      <td>1</td>\n",
       "      <td>2004-02-06</td>\n",
       "      <td>1990</td>\n",
       "      <td>Look Who's Talking Too</td>\n",
       "      <td>Comédie</td>\n",
       "      <td>Amy Heckerling</td>\n",
       "      <td>États-Unis</td>\n",
       "      <td>Anglais</td>\n",
       "      <td>female</td>\n",
       "      <td>['Comédie', 'Romance']</td>\n",
       "      <td>['Horreur', 'Science-fiction']</td>\n",
       "    </tr>\n",
       "  </tbody>\n",
       "</table>\n",
       "</div>"
      ],
      "text/plain": [
       "   MovieID  CustomerID  rating       Date  Year  \\\n",
       "0     4136        3595       1 2004-02-06  1993   \n",
       "1     1861        3595       1 2004-02-06  2001   \n",
       "2     3638        3595       1 2004-02-28  2003   \n",
       "3     2391        3595       1 2004-09-12  2004   \n",
       "4     1289        3595       1 2004-02-06  1990   \n",
       "\n",
       "                               Name            Genre        Director  \\\n",
       "0  Teenage Mutant Ninja Turtles III           Action  Stuart Gillard   \n",
       "1                         Evolution  Science-fiction    Ivan Reitman   \n",
       "2                       Bad Boys II           Action     Michael Bay   \n",
       "3                  Along Came Polly  Romantic Comedy    John Hamburg   \n",
       "4            Look Who's Talking Too          Comédie  Amy Heckerling   \n",
       "\n",
       "      Country Language  Gender                                Liked_Genre  \\\n",
       "0  États-Unis  Anglais    male  ['Action', 'Aventure', 'Science-fiction']   \n",
       "1  États-Unis  Anglais    male             ['Science-fiction', 'Comédie']   \n",
       "2  États-Unis  Anglais    male          ['Action', 'Policier', 'Comédie']   \n",
       "3         USA  English    male                      ['Comedy', 'Romance']   \n",
       "4  États-Unis  Anglais  female                     ['Comédie', 'Romance']   \n",
       "\n",
       "                   Disliked_Genre  \n",
       "0            ['Romance', 'Drame']  \n",
       "1            ['Romance', 'Drame']  \n",
       "2            ['Romance', 'Drame']  \n",
       "3   ['Horror', 'Science Fiction']  \n",
       "4  ['Horreur', 'Science-fiction']  "
      ]
     },
     "execution_count": 42,
     "metadata": {},
     "output_type": "execute_result"
    }
   ],
   "source": [
    "df_aug.head()"
   ]
  },
  {
   "cell_type": "code",
   "execution_count": null,
   "id": "2d2b3438",
   "metadata": {},
   "outputs": [],
   "source": []
  }
 ],
 "metadata": {
  "kernelspec": {
   "display_name": "base",
   "language": "python",
   "name": "python3"
  },
  "language_info": {
   "codemirror_mode": {
    "name": "ipython",
    "version": 3
   },
   "file_extension": ".py",
   "mimetype": "text/x-python",
   "name": "python",
   "nbconvert_exporter": "python",
   "pygments_lexer": "ipython3",
   "version": "3.12.7"
  }
 },
 "nbformat": 4,
 "nbformat_minor": 5
}
